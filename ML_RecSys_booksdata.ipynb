{
 "cells": [
  {
   "cell_type": "markdown",
   "metadata": {},
   "source": [
    "# Machine Learning - I \n",
    "# Goodreads Book Ratings Prediction \n",
    "By - Ese Emuraye & Pragya Srivastava\n"
   ]
  },
  {
   "cell_type": "markdown",
   "metadata": {},
   "source": [
    "## Introduction & Motivation\n",
    "\n",
    "Personalization is one of the most important applications of data science. Businesses use machine learning techniques, supervised and unsupervised, to predict customer behavior to give their customers the best possible experience and thereby increase sales and customer retention and acquisition. Our motivation for this project was to bring in personalization in the area of book recommendations, using the Goodreads books dataset found [here](https://www.kaggle.com/zygmunt/goodbooks-10k). We were aiming to use method like user-based collaborative filtering, matrix factorization, K-means etc.\n",
    "\n",
    "But due to extreme complexity and computational time of these methods, we simplified the problem statement and used the books dataset to predict average book ratings.\n",
    "\n",
    "### Objective\n",
    "\n",
    "The objective of this project is to predict the averag rating of a book\n",
    "\n",
    "### Scope\n",
    "\n",
    "This project involves the use of book features from the goodreads datasets to predict the average rating of a book. The average rating of a book ranges from 1 to 5. Several features from the books datasets and generated features have been explored to carry out a classification task\n",
    "\n"
   ]
  },
  {
   "cell_type": "markdown",
   "metadata": {},
   "source": [
    "## Data Preprocessing"
   ]
  },
  {
   "cell_type": "markdown",
   "metadata": {},
   "source": [
    "The section below covers getting the datasets and performing data cleaning to prepare the data in the right format for exploratory data analysis. The section ends with splitting the clean data into the training and test datasets"
   ]
  },
  {
   "cell_type": "markdown",
   "metadata": {},
   "source": [
    "### Load Relevant Datasets & Libraries"
   ]
  },
  {
   "cell_type": "code",
   "execution_count": 1,
   "metadata": {},
   "outputs": [],
   "source": [
    "# Load relevant libraries\n",
    "import pandas as pd\n",
    "import plotly\n",
    "import matplotlib.pyplot as plt\n",
    "import numpy as np\n",
    "import seaborn as sns"
   ]
  },
  {
   "cell_type": "code",
   "execution_count": 2,
   "metadata": {},
   "outputs": [],
   "source": [
    "sns.set(color_codes=True)"
   ]
  },
  {
   "cell_type": "code",
   "execution_count": 3,
   "metadata": {},
   "outputs": [],
   "source": [
    "pd.set_option('display.max_rows',None)\n",
    "import warnings\n",
    "warnings.filterwarnings('ignore')"
   ]
  },
  {
   "cell_type": "code",
   "execution_count": 4,
   "metadata": {},
   "outputs": [],
   "source": [
    "# set base path to datasets folder\n",
    "dir_path = 'Data/'\n",
    "\n",
    "# Load raw books dataset \n",
    "df_raw_books = pd.read_csv(dir_path + 'books.csv',header =0)\n",
    "# Make a copy of df_raw_books\n",
    "df_books = df_raw_books.copy(deep=True)\n",
    "\n",
    "# Load raw books dataset \n",
    "df_raw_ratings = pd.read_csv(dir_path + 'ratings.csv',header = 0)\n",
    "# Make a copy of df_raw_ratings\n",
    "df_ratings = df_raw_ratings.copy(deep=True)\n",
    "\n",
    "# Load raw books dataset \n",
    "df_raw_booktags = pd.read_csv(dir_path + 'book_tags.csv',header =0)\n",
    "# Make a copy of df_raw_booktags\n",
    "df_booktags = df_raw_booktags.copy(deep=True)\n",
    "\n",
    "# Load raw books dataset \n",
    "raw_to_read_data = pd.read_csv(dir_path + 'to_read.csv',header=0)\n",
    "# Make a copy of raw_to_read_data\n",
    "to_read_data = raw_to_read_data.copy(deep=True)\n",
    "\n",
    "# Load raw books dataset \n",
    "raw_tags = pd.read_csv(dir_path + 'tags.csv',header=0)\n",
    "# Make a copy of raw_tags\n",
    "tags = raw_tags.copy(deep=True)"
   ]
  },
  {
   "cell_type": "code",
   "execution_count": 5,
   "metadata": {},
   "outputs": [
    {
     "data": {
      "text/html": [
       "<div>\n",
       "<style scoped>\n",
       "    .dataframe tbody tr th:only-of-type {\n",
       "        vertical-align: middle;\n",
       "    }\n",
       "\n",
       "    .dataframe tbody tr th {\n",
       "        vertical-align: top;\n",
       "    }\n",
       "\n",
       "    .dataframe thead th {\n",
       "        text-align: right;\n",
       "    }\n",
       "</style>\n",
       "<table border=\"1\" class=\"dataframe\">\n",
       "  <thead>\n",
       "    <tr style=\"text-align: right;\">\n",
       "      <th></th>\n",
       "      <th># rows</th>\n",
       "      <th># columns</th>\n",
       "    </tr>\n",
       "  </thead>\n",
       "  <tbody>\n",
       "    <tr>\n",
       "      <th>0</th>\n",
       "      <td>981756</td>\n",
       "      <td>3</td>\n",
       "    </tr>\n",
       "  </tbody>\n",
       "</table>\n",
       "</div>"
      ],
      "text/plain": [
       "   # rows  # columns\n",
       "0  981756          3"
      ]
     },
     "execution_count": 5,
     "metadata": {},
     "output_type": "execute_result"
    }
   ],
   "source": [
    "# Print the dimension of df_ratings\n",
    "pd.DataFrame([[df_ratings.shape[0], df_ratings.shape[1]]], columns=['# rows', '# columns'])"
   ]
  },
  {
   "cell_type": "code",
   "execution_count": 6,
   "metadata": {},
   "outputs": [
    {
     "data": {
      "text/html": [
       "<div>\n",
       "<style scoped>\n",
       "    .dataframe tbody tr th:only-of-type {\n",
       "        vertical-align: middle;\n",
       "    }\n",
       "\n",
       "    .dataframe tbody tr th {\n",
       "        vertical-align: top;\n",
       "    }\n",
       "\n",
       "    .dataframe thead th {\n",
       "        text-align: right;\n",
       "    }\n",
       "</style>\n",
       "<table border=\"1\" class=\"dataframe\">\n",
       "  <thead>\n",
       "    <tr style=\"text-align: right;\">\n",
       "      <th></th>\n",
       "      <th># rows</th>\n",
       "      <th># columns</th>\n",
       "    </tr>\n",
       "  </thead>\n",
       "  <tbody>\n",
       "    <tr>\n",
       "      <th>0</th>\n",
       "      <td>999912</td>\n",
       "      <td>3</td>\n",
       "    </tr>\n",
       "  </tbody>\n",
       "</table>\n",
       "</div>"
      ],
      "text/plain": [
       "   # rows  # columns\n",
       "0  999912          3"
      ]
     },
     "execution_count": 6,
     "metadata": {},
     "output_type": "execute_result"
    }
   ],
   "source": [
    "# Print the dimension of df_booktags\n",
    "pd.DataFrame([[df_booktags.shape[0], df_booktags.shape[1]]], columns=['# rows', '# columns'])"
   ]
  },
  {
   "cell_type": "code",
   "execution_count": 7,
   "metadata": {},
   "outputs": [
    {
     "data": {
      "text/html": [
       "<div>\n",
       "<style scoped>\n",
       "    .dataframe tbody tr th:only-of-type {\n",
       "        vertical-align: middle;\n",
       "    }\n",
       "\n",
       "    .dataframe tbody tr th {\n",
       "        vertical-align: top;\n",
       "    }\n",
       "\n",
       "    .dataframe thead th {\n",
       "        text-align: right;\n",
       "    }\n",
       "</style>\n",
       "<table border=\"1\" class=\"dataframe\">\n",
       "  <thead>\n",
       "    <tr style=\"text-align: right;\">\n",
       "      <th></th>\n",
       "      <th>book_id</th>\n",
       "      <th>tag_id</th>\n",
       "      <th>count</th>\n",
       "    </tr>\n",
       "  </thead>\n",
       "  <tbody>\n",
       "    <tr>\n",
       "      <th>0</th>\n",
       "      <td>1</td>\n",
       "      <td>30574</td>\n",
       "      <td>167697</td>\n",
       "    </tr>\n",
       "    <tr>\n",
       "      <th>1</th>\n",
       "      <td>1</td>\n",
       "      <td>11305</td>\n",
       "      <td>37174</td>\n",
       "    </tr>\n",
       "    <tr>\n",
       "      <th>2</th>\n",
       "      <td>1</td>\n",
       "      <td>11557</td>\n",
       "      <td>34173</td>\n",
       "    </tr>\n",
       "    <tr>\n",
       "      <th>3</th>\n",
       "      <td>1</td>\n",
       "      <td>8717</td>\n",
       "      <td>12986</td>\n",
       "    </tr>\n",
       "    <tr>\n",
       "      <th>4</th>\n",
       "      <td>1</td>\n",
       "      <td>33114</td>\n",
       "      <td>12716</td>\n",
       "    </tr>\n",
       "  </tbody>\n",
       "</table>\n",
       "</div>"
      ],
      "text/plain": [
       "   book_id  tag_id   count\n",
       "0        1   30574  167697\n",
       "1        1   11305   37174\n",
       "2        1   11557   34173\n",
       "3        1    8717   12986\n",
       "4        1   33114   12716"
      ]
     },
     "execution_count": 7,
     "metadata": {},
     "output_type": "execute_result"
    }
   ],
   "source": [
    "# Print the first 5 rows of df_booktags\n",
    "df_booktags.head()"
   ]
  },
  {
   "cell_type": "code",
   "execution_count": 8,
   "metadata": {},
   "outputs": [
    {
     "data": {
      "text/html": [
       "<div>\n",
       "<style scoped>\n",
       "    .dataframe tbody tr th:only-of-type {\n",
       "        vertical-align: middle;\n",
       "    }\n",
       "\n",
       "    .dataframe tbody tr th {\n",
       "        vertical-align: top;\n",
       "    }\n",
       "\n",
       "    .dataframe thead th {\n",
       "        text-align: right;\n",
       "    }\n",
       "</style>\n",
       "<table border=\"1\" class=\"dataframe\">\n",
       "  <thead>\n",
       "    <tr style=\"text-align: right;\">\n",
       "      <th></th>\n",
       "      <th>book_id</th>\n",
       "      <th>user_id</th>\n",
       "      <th>rating</th>\n",
       "    </tr>\n",
       "  </thead>\n",
       "  <tbody>\n",
       "    <tr>\n",
       "      <th>0</th>\n",
       "      <td>1</td>\n",
       "      <td>314</td>\n",
       "      <td>5</td>\n",
       "    </tr>\n",
       "    <tr>\n",
       "      <th>1</th>\n",
       "      <td>1</td>\n",
       "      <td>439</td>\n",
       "      <td>3</td>\n",
       "    </tr>\n",
       "    <tr>\n",
       "      <th>2</th>\n",
       "      <td>1</td>\n",
       "      <td>588</td>\n",
       "      <td>5</td>\n",
       "    </tr>\n",
       "    <tr>\n",
       "      <th>3</th>\n",
       "      <td>1</td>\n",
       "      <td>1169</td>\n",
       "      <td>4</td>\n",
       "    </tr>\n",
       "    <tr>\n",
       "      <th>4</th>\n",
       "      <td>1</td>\n",
       "      <td>1185</td>\n",
       "      <td>4</td>\n",
       "    </tr>\n",
       "  </tbody>\n",
       "</table>\n",
       "</div>"
      ],
      "text/plain": [
       "   book_id  user_id  rating\n",
       "0        1      314       5\n",
       "1        1      439       3\n",
       "2        1      588       5\n",
       "3        1     1169       4\n",
       "4        1     1185       4"
      ]
     },
     "execution_count": 8,
     "metadata": {},
     "output_type": "execute_result"
    }
   ],
   "source": [
    "# Print the first 5 rows of df_ratings\n",
    "df_ratings.head()"
   ]
  },
  {
   "cell_type": "code",
   "execution_count": 9,
   "metadata": {
    "scrolled": true
   },
   "outputs": [
    {
     "name": "stdout",
     "output_type": "stream",
     "text": [
      "(10000, 23)\n",
      "(981756, 3)\n",
      "(999912, 3)\n",
      "(912705, 2)\n",
      "(34252, 2)\n"
     ]
    }
   ],
   "source": [
    "# Display shapes from all datasets\n",
    "print(df_books.shape)\n",
    "print(df_ratings.shape)\n",
    "print(df_booktags.shape)\n",
    "print(to_read_data.shape)\n",
    "print(tags.shape)"
   ]
  },
  {
   "cell_type": "markdown",
   "metadata": {},
   "source": [
    "### Data Cleaning"
   ]
  },
  {
   "cell_type": "markdown",
   "metadata": {},
   "source": [
    "In this sub-section, we look through each of the imported datasets and perform necessary cleaning operations. "
   ]
  },
  {
   "cell_type": "markdown",
   "metadata": {},
   "source": [
    "#### Clean Ratings Dataset"
   ]
  },
  {
   "cell_type": "markdown",
   "metadata": {},
   "source": [
    "The total number of observation for the ratings datasets is approximately 1 million which is large. For the purpose of this project, we obtain a subsample of the ratings for use in our analysis."
   ]
  },
  {
   "cell_type": "code",
   "execution_count": 10,
   "metadata": {},
   "outputs": [
    {
     "data": {
      "text/plain": [
       "(979310, 4)"
      ]
     },
     "execution_count": 10,
     "metadata": {},
     "output_type": "execute_result"
    }
   ],
   "source": [
    "# sort rating dataset by user_id and book_id\n",
    "df_ratings = df_ratings.sort_values(by=['user_id','book_id'])\n",
    "\n",
    "# construct key using combination of book_id and user_id\n",
    "df_ratings['key']=df_ratings.book_id.astype(str)+df_ratings.user_id.astype(str)\n",
    "\n",
    "# deduping ratings\n",
    "df_ratings = df_ratings.drop_duplicates('key',keep='first')\n",
    "\n",
    "df_ratings.shape"
   ]
  },
  {
   "cell_type": "code",
   "execution_count": 11,
   "metadata": {},
   "outputs": [],
   "source": [
    "# create new column to store user count\n",
    "df_ratings['user_count']= df_ratings.groupby(['user_id'])['book_id'].transform('count')\n",
    "\n",
    "# filter user count greater than two\n",
    "df_ratings = df_ratings.loc[df_ratings['user_count']>2]"
   ]
  },
  {
   "cell_type": "code",
   "execution_count": 12,
   "metadata": {},
   "outputs": [
    {
     "data": {
      "text/plain": [
       "(214231, 5)"
      ]
     },
     "execution_count": 12,
     "metadata": {},
     "output_type": "execute_result"
    }
   ],
   "source": [
    "# create a subsample of users for our analysis\n",
    "users = df_ratings['user_id'].unique()\n",
    "sample_users = users[0:9500]\n",
    "\n",
    "df_ratings_samp = df_ratings.loc[df_ratings['user_id'].isin(sample_users)]\n",
    "\n",
    "df_ratings_samp.shape"
   ]
  },
  {
   "cell_type": "code",
   "execution_count": 13,
   "metadata": {},
   "outputs": [
    {
     "data": {
      "text/html": [
       "<div>\n",
       "<style scoped>\n",
       "    .dataframe tbody tr th:only-of-type {\n",
       "        vertical-align: middle;\n",
       "    }\n",
       "\n",
       "    .dataframe tbody tr th {\n",
       "        vertical-align: top;\n",
       "    }\n",
       "\n",
       "    .dataframe thead th {\n",
       "        text-align: right;\n",
       "    }\n",
       "</style>\n",
       "<table border=\"1\" class=\"dataframe\">\n",
       "  <thead>\n",
       "    <tr style=\"text-align: right;\">\n",
       "      <th></th>\n",
       "      <th>book_id</th>\n",
       "      <th>key</th>\n",
       "      <th>user_count</th>\n",
       "    </tr>\n",
       "    <tr>\n",
       "      <th>rating</th>\n",
       "      <th></th>\n",
       "      <th></th>\n",
       "      <th></th>\n",
       "    </tr>\n",
       "  </thead>\n",
       "  <tbody>\n",
       "    <tr>\n",
       "      <th>1</th>\n",
       "      <td>4138</td>\n",
       "      <td>4138</td>\n",
       "      <td>4138</td>\n",
       "    </tr>\n",
       "    <tr>\n",
       "      <th>2</th>\n",
       "      <td>16929</td>\n",
       "      <td>16929</td>\n",
       "      <td>16929</td>\n",
       "    </tr>\n",
       "    <tr>\n",
       "      <th>3</th>\n",
       "      <td>63925</td>\n",
       "      <td>63925</td>\n",
       "      <td>63925</td>\n",
       "    </tr>\n",
       "    <tr>\n",
       "      <th>4</th>\n",
       "      <td>80887</td>\n",
       "      <td>80887</td>\n",
       "      <td>80887</td>\n",
       "    </tr>\n",
       "    <tr>\n",
       "      <th>5</th>\n",
       "      <td>48352</td>\n",
       "      <td>48352</td>\n",
       "      <td>48352</td>\n",
       "    </tr>\n",
       "  </tbody>\n",
       "</table>\n",
       "</div>"
      ],
      "text/plain": [
       "        book_id    key  user_count\n",
       "rating                            \n",
       "1          4138   4138        4138\n",
       "2         16929  16929       16929\n",
       "3         63925  63925       63925\n",
       "4         80887  80887       80887\n",
       "5         48352  48352       48352"
      ]
     },
     "execution_count": 13,
     "metadata": {},
     "output_type": "execute_result"
    }
   ],
   "source": [
    "df_ratings_samp.set_index([\"rating\",'user_id']).count(level=\"rating\")"
   ]
  },
  {
   "cell_type": "markdown",
   "metadata": {},
   "source": [
    "##### Clean Tags Dataset"
   ]
  },
  {
   "cell_type": "markdown",
   "metadata": {},
   "source": [
    "The tags datasets contain tags like 'to-read','fantasy','thriller' etc which can be useful for predicting book ratings. We peek into the datasets and clean tags in a format ready for analysis"
   ]
  },
  {
   "cell_type": "code",
   "execution_count": 14,
   "metadata": {},
   "outputs": [
    {
     "data": {
      "text/html": [
       "<div>\n",
       "<style scoped>\n",
       "    .dataframe tbody tr th:only-of-type {\n",
       "        vertical-align: middle;\n",
       "    }\n",
       "\n",
       "    .dataframe tbody tr th {\n",
       "        vertical-align: top;\n",
       "    }\n",
       "\n",
       "    .dataframe thead th {\n",
       "        text-align: right;\n",
       "    }\n",
       "</style>\n",
       "<table border=\"1\" class=\"dataframe\">\n",
       "  <thead>\n",
       "    <tr style=\"text-align: right;\">\n",
       "      <th></th>\n",
       "      <th>tag_id</th>\n",
       "      <th>tag_name</th>\n",
       "      <th>tag_cleaned</th>\n",
       "    </tr>\n",
       "  </thead>\n",
       "  <tbody>\n",
       "    <tr>\n",
       "      <th>0</th>\n",
       "      <td>0</td>\n",
       "      <td>-</td>\n",
       "      <td>NaN</td>\n",
       "    </tr>\n",
       "    <tr>\n",
       "      <th>1</th>\n",
       "      <td>1</td>\n",
       "      <td>--1-</td>\n",
       "      <td>NaN</td>\n",
       "    </tr>\n",
       "    <tr>\n",
       "      <th>2</th>\n",
       "      <td>2</td>\n",
       "      <td>--10-</td>\n",
       "      <td>NaN</td>\n",
       "    </tr>\n",
       "    <tr>\n",
       "      <th>3</th>\n",
       "      <td>3</td>\n",
       "      <td>--12-</td>\n",
       "      <td>NaN</td>\n",
       "    </tr>\n",
       "    <tr>\n",
       "      <th>4</th>\n",
       "      <td>4</td>\n",
       "      <td>--122-</td>\n",
       "      <td>NaN</td>\n",
       "    </tr>\n",
       "  </tbody>\n",
       "</table>\n",
       "</div>"
      ],
      "text/plain": [
       "   tag_id tag_name tag_cleaned\n",
       "0       0        -         NaN\n",
       "1       1     --1-         NaN\n",
       "2       2    --10-         NaN\n",
       "3       3    --12-         NaN\n",
       "4       4   --122-         NaN"
      ]
     },
     "execution_count": 14,
     "metadata": {},
     "output_type": "execute_result"
    }
   ],
   "source": [
    "#extracting tags from the tag name column\n",
    "tags['tag_cleaned']=tags['tag_name'].str.extract(r\"([a-z].*)\", expand=False)\n",
    "\n",
    "# print first five rows of tags dataset\n",
    "tags.head()"
   ]
  },
  {
   "cell_type": "code",
   "execution_count": 15,
   "metadata": {},
   "outputs": [
    {
     "data": {
      "text/plain": [
       "(999912, 5)"
      ]
     },
     "execution_count": 15,
     "metadata": {},
     "output_type": "execute_result"
    }
   ],
   "source": [
    "# merge extracted tags with the booktags dataset containing tag ids only, to get the actual tag in words\n",
    "tags_data = pd.merge(df_booktags, tags, how='left', on='tag_id')\n",
    "\n",
    "# print the shape of the merge tag dataset\n",
    "tags_data.shape"
   ]
  },
  {
   "cell_type": "code",
   "execution_count": 16,
   "metadata": {},
   "outputs": [],
   "source": [
    "# pick relevant columns from tags data\n",
    "tags_data = tags_data[['book_id','count','tag_id','tag_cleaned']]"
   ]
  },
  {
   "cell_type": "code",
   "execution_count": 17,
   "metadata": {},
   "outputs": [
    {
     "data": {
      "text/html": [
       "<div>\n",
       "<style scoped>\n",
       "    .dataframe tbody tr th:only-of-type {\n",
       "        vertical-align: middle;\n",
       "    }\n",
       "\n",
       "    .dataframe tbody tr th {\n",
       "        vertical-align: top;\n",
       "    }\n",
       "\n",
       "    .dataframe thead th {\n",
       "        text-align: right;\n",
       "    }\n",
       "</style>\n",
       "<table border=\"1\" class=\"dataframe\">\n",
       "  <thead>\n",
       "    <tr style=\"text-align: right;\">\n",
       "      <th></th>\n",
       "      <th>book_id</th>\n",
       "      <th>count</th>\n",
       "      <th>tag_id</th>\n",
       "      <th>tag_cleaned</th>\n",
       "    </tr>\n",
       "  </thead>\n",
       "  <tbody>\n",
       "    <tr>\n",
       "      <th>0</th>\n",
       "      <td>1</td>\n",
       "      <td>167697</td>\n",
       "      <td>30574</td>\n",
       "      <td>to-read</td>\n",
       "    </tr>\n",
       "    <tr>\n",
       "      <th>100</th>\n",
       "      <td>2</td>\n",
       "      <td>24549</td>\n",
       "      <td>30574</td>\n",
       "      <td>to-read</td>\n",
       "    </tr>\n",
       "    <tr>\n",
       "      <th>200</th>\n",
       "      <td>3</td>\n",
       "      <td>496107</td>\n",
       "      <td>30574</td>\n",
       "      <td>to-read</td>\n",
       "    </tr>\n",
       "    <tr>\n",
       "      <th>300</th>\n",
       "      <td>5</td>\n",
       "      <td>40087</td>\n",
       "      <td>11557</td>\n",
       "      <td>favorites</td>\n",
       "    </tr>\n",
       "    <tr>\n",
       "      <th>400</th>\n",
       "      <td>6</td>\n",
       "      <td>38378</td>\n",
       "      <td>11305</td>\n",
       "      <td>fantasy</td>\n",
       "    </tr>\n",
       "    <tr>\n",
       "      <th>500</th>\n",
       "      <td>8</td>\n",
       "      <td>2823</td>\n",
       "      <td>30574</td>\n",
       "      <td>to-read</td>\n",
       "    </tr>\n",
       "    <tr>\n",
       "      <th>600</th>\n",
       "      <td>10</td>\n",
       "      <td>3226</td>\n",
       "      <td>30574</td>\n",
       "      <td>to-read</td>\n",
       "    </tr>\n",
       "    <tr>\n",
       "      <th>700</th>\n",
       "      <td>11</td>\n",
       "      <td>32303</td>\n",
       "      <td>30574</td>\n",
       "      <td>to-read</td>\n",
       "    </tr>\n",
       "    <tr>\n",
       "      <th>800</th>\n",
       "      <td>13</td>\n",
       "      <td>75870</td>\n",
       "      <td>30574</td>\n",
       "      <td>to-read</td>\n",
       "    </tr>\n",
       "    <tr>\n",
       "      <th>900</th>\n",
       "      <td>21</td>\n",
       "      <td>33603</td>\n",
       "      <td>30574</td>\n",
       "      <td>to-read</td>\n",
       "    </tr>\n",
       "  </tbody>\n",
       "</table>\n",
       "</div>"
      ],
      "text/plain": [
       "     book_id   count  tag_id tag_cleaned\n",
       "0          1  167697   30574     to-read\n",
       "100        2   24549   30574     to-read\n",
       "200        3  496107   30574     to-read\n",
       "300        5   40087   11557   favorites\n",
       "400        6   38378   11305     fantasy\n",
       "500        8    2823   30574     to-read\n",
       "600       10    3226   30574     to-read\n",
       "700       11   32303   30574     to-read\n",
       "800       13   75870   30574     to-read\n",
       "900       21   33603   30574     to-read"
      ]
     },
     "execution_count": 17,
     "metadata": {},
     "output_type": "execute_result"
    }
   ],
   "source": [
    "# selecting the tag with highest count of tags for each book\n",
    "td = tags_data.sort_values(by=['book_id','count'],ascending=[1,0]).groupby('book_id').head(1)\n",
    "\n",
    "td.head(10)"
   ]
  },
  {
   "cell_type": "markdown",
   "metadata": {},
   "source": [
    "#### Clean to_read Dataset\n",
    "Similarly the 'to_read dataset' contains details about how many times a particular book has been put in the to_read list by users. Together with the tags dataset, we can create new features that will aid in our analysis"
   ]
  },
  {
   "cell_type": "code",
   "execution_count": 18,
   "metadata": {},
   "outputs": [
    {
     "data": {
      "text/html": [
       "<div>\n",
       "<style scoped>\n",
       "    .dataframe tbody tr th:only-of-type {\n",
       "        vertical-align: middle;\n",
       "    }\n",
       "\n",
       "    .dataframe tbody tr th {\n",
       "        vertical-align: top;\n",
       "    }\n",
       "\n",
       "    .dataframe thead th {\n",
       "        text-align: right;\n",
       "    }\n",
       "</style>\n",
       "<table border=\"1\" class=\"dataframe\">\n",
       "  <thead>\n",
       "    <tr style=\"text-align: right;\">\n",
       "      <th></th>\n",
       "      <th>user_id</th>\n",
       "      <th>book_id</th>\n",
       "    </tr>\n",
       "  </thead>\n",
       "  <tbody>\n",
       "    <tr>\n",
       "      <th>0</th>\n",
       "      <td>1</td>\n",
       "      <td>112</td>\n",
       "    </tr>\n",
       "    <tr>\n",
       "      <th>1</th>\n",
       "      <td>1</td>\n",
       "      <td>235</td>\n",
       "    </tr>\n",
       "    <tr>\n",
       "      <th>2</th>\n",
       "      <td>1</td>\n",
       "      <td>533</td>\n",
       "    </tr>\n",
       "    <tr>\n",
       "      <th>3</th>\n",
       "      <td>1</td>\n",
       "      <td>1198</td>\n",
       "    </tr>\n",
       "    <tr>\n",
       "      <th>4</th>\n",
       "      <td>1</td>\n",
       "      <td>1874</td>\n",
       "    </tr>\n",
       "  </tbody>\n",
       "</table>\n",
       "</div>"
      ],
      "text/plain": [
       "   user_id  book_id\n",
       "0        1      112\n",
       "1        1      235\n",
       "2        1      533\n",
       "3        1     1198\n",
       "4        1     1874"
      ]
     },
     "execution_count": 18,
     "metadata": {},
     "output_type": "execute_result"
    }
   ],
   "source": [
    "to_read_data.head()"
   ]
  },
  {
   "cell_type": "code",
   "execution_count": 19,
   "metadata": {},
   "outputs": [
    {
     "data": {
      "text/html": [
       "<div>\n",
       "<style scoped>\n",
       "    .dataframe tbody tr th:only-of-type {\n",
       "        vertical-align: middle;\n",
       "    }\n",
       "\n",
       "    .dataframe tbody tr th {\n",
       "        vertical-align: top;\n",
       "    }\n",
       "\n",
       "    .dataframe thead th {\n",
       "        text-align: right;\n",
       "    }\n",
       "</style>\n",
       "<table border=\"1\" class=\"dataframe\">\n",
       "  <thead>\n",
       "    <tr style=\"text-align: right;\">\n",
       "      <th></th>\n",
       "      <th>book_id</th>\n",
       "      <th>user_id</th>\n",
       "    </tr>\n",
       "  </thead>\n",
       "  <tbody>\n",
       "    <tr>\n",
       "      <th>0</th>\n",
       "      <td>1</td>\n",
       "      <td>973</td>\n",
       "    </tr>\n",
       "    <tr>\n",
       "      <th>1</th>\n",
       "      <td>2</td>\n",
       "      <td>400</td>\n",
       "    </tr>\n",
       "    <tr>\n",
       "      <th>2</th>\n",
       "      <td>3</td>\n",
       "      <td>287</td>\n",
       "    </tr>\n",
       "    <tr>\n",
       "      <th>3</th>\n",
       "      <td>4</td>\n",
       "      <td>1478</td>\n",
       "    </tr>\n",
       "    <tr>\n",
       "      <th>4</th>\n",
       "      <td>5</td>\n",
       "      <td>1293</td>\n",
       "    </tr>\n",
       "  </tbody>\n",
       "</table>\n",
       "</div>"
      ],
      "text/plain": [
       "   book_id  user_id\n",
       "0        1      973\n",
       "1        2      400\n",
       "2        3      287\n",
       "3        4     1478\n",
       "4        5     1293"
      ]
     },
     "execution_count": 19,
     "metadata": {},
     "output_type": "execute_result"
    }
   ],
   "source": [
    "# final to-read dataset with counts for each book-id\n",
    "trd = to_read_data.groupby('book_id').count()[['user_id']].reset_index()\n",
    "\n",
    "# print the first five rows of the trd data frame\n",
    "trd.head()"
   ]
  },
  {
   "cell_type": "markdown",
   "metadata": {},
   "source": [
    "#### Merge the datasets "
   ]
  },
  {
   "cell_type": "markdown",
   "metadata": {},
   "source": [
    "Merge all the datasets created above - tags data and to_read data- with the books datatset to create a final dataset with all features"
   ]
  },
  {
   "cell_type": "code",
   "execution_count": 20,
   "metadata": {
    "scrolled": true
   },
   "outputs": [
    {
     "data": {
      "text/html": [
       "<div>\n",
       "<style scoped>\n",
       "    .dataframe tbody tr th:only-of-type {\n",
       "        vertical-align: middle;\n",
       "    }\n",
       "\n",
       "    .dataframe tbody tr th {\n",
       "        vertical-align: top;\n",
       "    }\n",
       "\n",
       "    .dataframe thead th {\n",
       "        text-align: right;\n",
       "    }\n",
       "</style>\n",
       "<table border=\"1\" class=\"dataframe\">\n",
       "  <thead>\n",
       "    <tr style=\"text-align: right;\">\n",
       "      <th></th>\n",
       "      <th>id</th>\n",
       "      <th>book_id</th>\n",
       "      <th>best_book_id</th>\n",
       "      <th>work_id</th>\n",
       "      <th>books_count</th>\n",
       "      <th>isbn</th>\n",
       "      <th>isbn13</th>\n",
       "      <th>authors</th>\n",
       "      <th>original_publication_year</th>\n",
       "      <th>original_title</th>\n",
       "      <th>...</th>\n",
       "      <th>work_text_reviews_count</th>\n",
       "      <th>ratings_1</th>\n",
       "      <th>ratings_2</th>\n",
       "      <th>ratings_3</th>\n",
       "      <th>ratings_4</th>\n",
       "      <th>ratings_5</th>\n",
       "      <th>image_url</th>\n",
       "      <th>small_image_url</th>\n",
       "      <th>tag_cleaned</th>\n",
       "      <th>user_id</th>\n",
       "    </tr>\n",
       "  </thead>\n",
       "  <tbody>\n",
       "    <tr>\n",
       "      <th>0</th>\n",
       "      <td>1</td>\n",
       "      <td>2767052</td>\n",
       "      <td>2767052</td>\n",
       "      <td>2792775</td>\n",
       "      <td>272</td>\n",
       "      <td>439023483</td>\n",
       "      <td>9.78044e+12</td>\n",
       "      <td>Suzanne Collins</td>\n",
       "      <td>2008</td>\n",
       "      <td>The Hunger Games</td>\n",
       "      <td>...</td>\n",
       "      <td>155254</td>\n",
       "      <td>66715</td>\n",
       "      <td>127936</td>\n",
       "      <td>560092</td>\n",
       "      <td>1481305</td>\n",
       "      <td>2706317</td>\n",
       "      <td>https://images.gr-assets.com/books/1447303603m...</td>\n",
       "      <td>https://images.gr-assets.com/books/1447303603s...</td>\n",
       "      <td>favorites</td>\n",
       "      <td>0</td>\n",
       "    </tr>\n",
       "    <tr>\n",
       "      <th>1</th>\n",
       "      <td>2</td>\n",
       "      <td>3</td>\n",
       "      <td>3</td>\n",
       "      <td>4640799</td>\n",
       "      <td>491</td>\n",
       "      <td>439554934</td>\n",
       "      <td>9.78044e+12</td>\n",
       "      <td>J.K. Rowling, Mary GrandPré</td>\n",
       "      <td>1997</td>\n",
       "      <td>Harry Potter and the Philosopher's Stone</td>\n",
       "      <td>...</td>\n",
       "      <td>75867</td>\n",
       "      <td>75504</td>\n",
       "      <td>101676</td>\n",
       "      <td>455024</td>\n",
       "      <td>1156318</td>\n",
       "      <td>3011543</td>\n",
       "      <td>https://images.gr-assets.com/books/1474154022m...</td>\n",
       "      <td>https://images.gr-assets.com/books/1474154022s...</td>\n",
       "      <td>to-read</td>\n",
       "      <td>287</td>\n",
       "    </tr>\n",
       "    <tr>\n",
       "      <th>2</th>\n",
       "      <td>3</td>\n",
       "      <td>41865</td>\n",
       "      <td>41865</td>\n",
       "      <td>3212258</td>\n",
       "      <td>226</td>\n",
       "      <td>316015849</td>\n",
       "      <td>9.78032e+12</td>\n",
       "      <td>Stephenie Meyer</td>\n",
       "      <td>2005</td>\n",
       "      <td>Twilight</td>\n",
       "      <td>...</td>\n",
       "      <td>95009</td>\n",
       "      <td>456191</td>\n",
       "      <td>436802</td>\n",
       "      <td>793319</td>\n",
       "      <td>875073</td>\n",
       "      <td>1355439</td>\n",
       "      <td>https://images.gr-assets.com/books/1361039443m...</td>\n",
       "      <td>https://images.gr-assets.com/books/1361039443s...</td>\n",
       "      <td>young-adult</td>\n",
       "      <td>0</td>\n",
       "    </tr>\n",
       "    <tr>\n",
       "      <th>3</th>\n",
       "      <td>4</td>\n",
       "      <td>2657</td>\n",
       "      <td>2657</td>\n",
       "      <td>3275794</td>\n",
       "      <td>487</td>\n",
       "      <td>61120081</td>\n",
       "      <td>9.78006e+12</td>\n",
       "      <td>Harper Lee</td>\n",
       "      <td>1960</td>\n",
       "      <td>To Kill a Mockingbird</td>\n",
       "      <td>...</td>\n",
       "      <td>72586</td>\n",
       "      <td>60427</td>\n",
       "      <td>117415</td>\n",
       "      <td>446835</td>\n",
       "      <td>1001952</td>\n",
       "      <td>1714267</td>\n",
       "      <td>https://images.gr-assets.com/books/1361975680m...</td>\n",
       "      <td>https://images.gr-assets.com/books/1361975680s...</td>\n",
       "      <td>classics</td>\n",
       "      <td>50</td>\n",
       "    </tr>\n",
       "    <tr>\n",
       "      <th>4</th>\n",
       "      <td>5</td>\n",
       "      <td>4671</td>\n",
       "      <td>4671</td>\n",
       "      <td>245494</td>\n",
       "      <td>1356</td>\n",
       "      <td>743273567</td>\n",
       "      <td>9.78074e+12</td>\n",
       "      <td>F. Scott Fitzgerald</td>\n",
       "      <td>1925</td>\n",
       "      <td>The Great Gatsby</td>\n",
       "      <td>...</td>\n",
       "      <td>51992</td>\n",
       "      <td>86236</td>\n",
       "      <td>197621</td>\n",
       "      <td>606158</td>\n",
       "      <td>936012</td>\n",
       "      <td>947718</td>\n",
       "      <td>https://images.gr-assets.com/books/1490528560m...</td>\n",
       "      <td>https://images.gr-assets.com/books/1490528560s...</td>\n",
       "      <td>classics</td>\n",
       "      <td>48</td>\n",
       "    </tr>\n",
       "  </tbody>\n",
       "</table>\n",
       "<p>5 rows × 25 columns</p>\n",
       "</div>"
      ],
      "text/plain": [
       "   id  book_id  best_book_id  work_id  books_count       isbn       isbn13  \\\n",
       "0   1  2767052       2767052  2792775          272  439023483  9.78044e+12   \n",
       "1   2        3             3  4640799          491  439554934  9.78044e+12   \n",
       "2   3    41865         41865  3212258          226  316015849  9.78032e+12   \n",
       "3   4     2657          2657  3275794          487   61120081  9.78006e+12   \n",
       "4   5     4671          4671   245494         1356  743273567  9.78074e+12   \n",
       "\n",
       "                       authors original_publication_year  \\\n",
       "0              Suzanne Collins                      2008   \n",
       "1  J.K. Rowling, Mary GrandPré                      1997   \n",
       "2              Stephenie Meyer                      2005   \n",
       "3                   Harper Lee                      1960   \n",
       "4          F. Scott Fitzgerald                      1925   \n",
       "\n",
       "                             original_title  ... work_text_reviews_count  \\\n",
       "0                          The Hunger Games  ...                  155254   \n",
       "1  Harry Potter and the Philosopher's Stone  ...                   75867   \n",
       "2                                  Twilight  ...                   95009   \n",
       "3                     To Kill a Mockingbird  ...                   72586   \n",
       "4                          The Great Gatsby  ...                   51992   \n",
       "\n",
       "  ratings_1  ratings_2  ratings_3  ratings_4  ratings_5  \\\n",
       "0     66715     127936     560092    1481305    2706317   \n",
       "1     75504     101676     455024    1156318    3011543   \n",
       "2    456191     436802     793319     875073    1355439   \n",
       "3     60427     117415     446835    1001952    1714267   \n",
       "4     86236     197621     606158     936012     947718   \n",
       "\n",
       "                                           image_url  \\\n",
       "0  https://images.gr-assets.com/books/1447303603m...   \n",
       "1  https://images.gr-assets.com/books/1474154022m...   \n",
       "2  https://images.gr-assets.com/books/1361039443m...   \n",
       "3  https://images.gr-assets.com/books/1361975680m...   \n",
       "4  https://images.gr-assets.com/books/1490528560m...   \n",
       "\n",
       "                                     small_image_url  tag_cleaned  user_id  \n",
       "0  https://images.gr-assets.com/books/1447303603s...    favorites        0  \n",
       "1  https://images.gr-assets.com/books/1474154022s...      to-read      287  \n",
       "2  https://images.gr-assets.com/books/1361039443s...  young-adult        0  \n",
       "3  https://images.gr-assets.com/books/1361975680s...     classics       50  \n",
       "4  https://images.gr-assets.com/books/1490528560s...     classics       48  \n",
       "\n",
       "[5 rows x 25 columns]"
      ]
     },
     "execution_count": 20,
     "metadata": {},
     "output_type": "execute_result"
    }
   ],
   "source": [
    "from functools import reduce\n",
    "\n",
    "# create dataframe and store all datasets in the dataframe\n",
    "data_frames = [df_books,td[['tag_cleaned','book_id']],trd[['user_id','book_id']]]\n",
    "\n",
    "book_data_final = reduce(lambda  left,right: pd.merge(left,right,on=['book_id'],\n",
    "                                            how='left'), data_frames).fillna('0')\n",
    "\n",
    "# Print the first five rows of the final dataset\n",
    "book_data_final.head()"
   ]
  },
  {
   "cell_type": "markdown",
   "metadata": {},
   "source": [
    "#### Further cleaning"
   ]
  },
  {
   "cell_type": "markdown",
   "metadata": {},
   "source": [
    "Perform some further cleaning operations based on observed discrepancies in the final books datasets"
   ]
  },
  {
   "cell_type": "code",
   "execution_count": 21,
   "metadata": {},
   "outputs": [],
   "source": [
    "## Rename user_id \n",
    "book_data_final = book_data_final.rename(columns={'user_id':'to_read_count'})\n",
    "\n",
    "# create author count column which counts the number of authors for each book\n",
    "book_data_final['author_count']=book_data_final['authors'].str.split(',').apply(len)"
   ]
  },
  {
   "cell_type": "code",
   "execution_count": 22,
   "metadata": {},
   "outputs": [],
   "source": [
    "# select only those tags whose count is greater than twenty to number of labels present for one hot encoding our feature\n",
    "s = book_data_final['tag_cleaned'].value_counts()\n",
    "\n",
    "book_data_final['tag_cleaned'] = np.where(book_data_final['tag_cleaned'].isin(s.index[s > 20]), book_data_final['tag_cleaned'], 'other')"
   ]
  },
  {
   "cell_type": "code",
   "execution_count": 23,
   "metadata": {},
   "outputs": [],
   "source": [
    "# select only those languages whose count is greater than twnety to number of labels present for one hot encoding our feature\n",
    "t = book_data_final['language_code'].value_counts()\n",
    "\n",
    "book_data_final['language_code'] = np.where(book_data_final['language_code'].isin(t.index[t > 20]), book_data_final['language_code'], 'other')"
   ]
  },
  {
   "cell_type": "code",
   "execution_count": 24,
   "metadata": {},
   "outputs": [],
   "source": [
    "# convert relevant columns to integer for further use\n",
    "book_data_final['original_publication_year'] = book_data_final['original_publication_year'].astype(int)\n",
    "book_data_final['to_read_count'] = book_data_final['to_read_count'].astype(int)"
   ]
  },
  {
   "cell_type": "markdown",
   "metadata": {},
   "source": [
    "### Split dataset into training and test dataset"
   ]
  },
  {
   "cell_type": "markdown",
   "metadata": {},
   "source": [
    "In this section, we split our final dataset into training and test dataset, so we can keep our test data prior to further analysis and model training. It is important this step is carried out before exploratory data analysis to prevent introducing data snooping bias. "
   ]
  },
  {
   "cell_type": "code",
   "execution_count": 25,
   "metadata": {},
   "outputs": [],
   "source": [
    "# specify target variable\n",
    "target = 'avg_rating'"
   ]
  },
  {
   "cell_type": "code",
   "execution_count": 26,
   "metadata": {},
   "outputs": [],
   "source": [
    "# create target label by creating bins for average rating to have different classes\n",
    "# create bins for ratings\n",
    "bins = [1, 1.5, 2.5, 3.5, 4.5, 5]\n",
    "labels = [1,2,3,4,5]\n",
    "book_data_final['avg_rating'] = pd.cut(book_data_final['average_rating'], bins=bins, labels=labels)"
   ]
  },
  {
   "cell_type": "code",
   "execution_count": 27,
   "metadata": {
    "scrolled": false
   },
   "outputs": [
    {
     "data": {
      "text/plain": [
       "4    9516\n",
       "3     354\n",
       "5     129\n",
       "2       1\n",
       "1       0\n",
       "Name: avg_rating, dtype: int64"
      ]
     },
     "execution_count": 27,
     "metadata": {},
     "output_type": "execute_result"
    }
   ],
   "source": [
    "book_data_final['avg_rating'].value_counts()"
   ]
  },
  {
   "cell_type": "code",
   "execution_count": 28,
   "metadata": {},
   "outputs": [],
   "source": [
    "# include only ratings for 3,4,5 because we have very few records for 1 and 2 based on ratings provided by users\n",
    "book_data_final = book_data_final[book_data_final['avg_rating'] > 2]"
   ]
  },
  {
   "cell_type": "code",
   "execution_count": 29,
   "metadata": {},
   "outputs": [],
   "source": [
    "# divide book_data_final into train and test datasets\n",
    "from sklearn.model_selection import train_test_split\n",
    "\n",
    "df_train, df_test = train_test_split(book_data_final, train_size=0.8, random_state=42, stratify=book_data_final[target])"
   ]
  },
  {
   "cell_type": "code",
   "execution_count": 30,
   "metadata": {},
   "outputs": [],
   "source": [
    "# drop the target variable from the test set\n",
    "df_test = df_test.drop(columns=target)"
   ]
  },
  {
   "cell_type": "markdown",
   "metadata": {},
   "source": [
    "## Exploratory Data Analysis"
   ]
  },
  {
   "cell_type": "markdown",
   "metadata": {},
   "source": [
    "### Book Ratings\n",
    "\n",
    "We have used the ratings available in the book ratings dataset to get an idea of the distribution of ratings"
   ]
  },
  {
   "cell_type": "code",
   "execution_count": 31,
   "metadata": {},
   "outputs": [
    {
     "data": {
      "text/html": [
       "<div>\n",
       "<style scoped>\n",
       "    .dataframe tbody tr th:only-of-type {\n",
       "        vertical-align: middle;\n",
       "    }\n",
       "\n",
       "    .dataframe tbody tr th {\n",
       "        vertical-align: top;\n",
       "    }\n",
       "\n",
       "    .dataframe thead th {\n",
       "        text-align: right;\n",
       "    }\n",
       "</style>\n",
       "<table border=\"1\" class=\"dataframe\">\n",
       "  <thead>\n",
       "    <tr style=\"text-align: right;\">\n",
       "      <th></th>\n",
       "      <th>book_id</th>\n",
       "      <th>user_id</th>\n",
       "      <th>rating</th>\n",
       "      <th>key</th>\n",
       "      <th>user_count</th>\n",
       "    </tr>\n",
       "  </thead>\n",
       "  <tbody>\n",
       "    <tr>\n",
       "      <th>117889</th>\n",
       "      <td>1180</td>\n",
       "      <td>1</td>\n",
       "      <td>4</td>\n",
       "      <td>11801</td>\n",
       "      <td>3</td>\n",
       "    </tr>\n",
       "    <tr>\n",
       "      <th>488112</th>\n",
       "      <td>4893</td>\n",
       "      <td>1</td>\n",
       "      <td>3</td>\n",
       "      <td>48931</td>\n",
       "      <td>3</td>\n",
       "    </tr>\n",
       "    <tr>\n",
       "      <th>625717</th>\n",
       "      <td>6285</td>\n",
       "      <td>1</td>\n",
       "      <td>4</td>\n",
       "      <td>62851</td>\n",
       "      <td>3</td>\n",
       "    </tr>\n",
       "    <tr>\n",
       "      <th>796318</th>\n",
       "      <td>8034</td>\n",
       "      <td>2</td>\n",
       "      <td>4</td>\n",
       "      <td>80342</td>\n",
       "      <td>3</td>\n",
       "    </tr>\n",
       "    <tr>\n",
       "      <th>875008</th>\n",
       "      <td>8855</td>\n",
       "      <td>2</td>\n",
       "      <td>5</td>\n",
       "      <td>88552</td>\n",
       "      <td>3</td>\n",
       "    </tr>\n",
       "  </tbody>\n",
       "</table>\n",
       "</div>"
      ],
      "text/plain": [
       "        book_id  user_id  rating    key  user_count\n",
       "117889     1180        1       4  11801           3\n",
       "488112     4893        1       3  48931           3\n",
       "625717     6285        1       4  62851           3\n",
       "796318     8034        2       4  80342           3\n",
       "875008     8855        2       5  88552           3"
      ]
     },
     "execution_count": 31,
     "metadata": {},
     "output_type": "execute_result"
    }
   ],
   "source": [
    "df_ratings_samp.head()"
   ]
  },
  {
   "cell_type": "code",
   "execution_count": 32,
   "metadata": {},
   "outputs": [],
   "source": [
    "# get mean ratings for each user\n",
    "mean_ur = df_ratings_samp.groupby('user_id').mean()[['rating']]\n",
    "mean_ur = mean_ur.reset_index()"
   ]
  },
  {
   "cell_type": "code",
   "execution_count": 33,
   "metadata": {},
   "outputs": [
    {
     "data": {
      "text/plain": [
       "Text(0.5, 0, 'Average Rating')"
      ]
     },
     "execution_count": 33,
     "metadata": {},
     "output_type": "execute_result"
    },
    {
     "data": {
      "image/png": "[encoded data removed]",
      "text/plain": [
       "<Figure size 432x288 with 1 Axes>"
      ]
     },
     "metadata": {},
     "output_type": "display_data"
    }
   ],
   "source": [
    "sns.distplot(mean_ur['rating'], kde=False, rug=True, bins=40);\n",
    "plt.ylabel('Frequency')\n",
    "plt.xlabel('Average Rating')"
   ]
  },
  {
   "cell_type": "markdown",
   "metadata": {},
   "source": [
    "From the above plot we can see that most of the user ratings are towards 3.5 and above. There are very few ratings in the range of 1-3."
   ]
  },
  {
   "cell_type": "markdown",
   "metadata": {},
   "source": [
    "### Books Data"
   ]
  },
  {
   "cell_type": "markdown",
   "metadata": {},
   "source": [
    "We further explore the training dataset to gain better understanding of the features in the dataset and their relationships"
   ]
  },
  {
   "cell_type": "code",
   "execution_count": 34,
   "metadata": {},
   "outputs": [
    {
     "data": {
      "image/png": "[encoded data removed]",
      "text/plain": [
       "<Figure size 432x288 with 2 Axes>"
      ]
     },
     "metadata": {},
     "output_type": "display_data"
    }
   ],
   "source": [
    "# plot a correlation matrix to show the relationship between numerical features\n",
    "corrMatrix = df_train[['books_count','original_publication_year','ratings_count','work_ratings_count','work_text_reviews_count','average_rating']].corr()\n",
    "sns.heatmap(corrMatrix, annot=True)\n",
    "plt.show()"
   ]
  },
  {
   "cell_type": "code",
   "execution_count": 35,
   "metadata": {},
   "outputs": [],
   "source": [
    "# define functions to make plots\n",
    "def plot_scatter(df, x_label, y_label, chart_title):\n",
    "    cmap = sns.cubehelix_palette(dark=.3, light=.8, as_cmap=True)\n",
    "    sns.scatterplot(x=x_label, y=y_label, data=df, palette=cmap)\n",
    "    plt.title(chart_title)\n",
    "    \n",
    "def plot_scatter_and_trendline(x, y, chart_title):\n",
    "    sns.regplot(x,y)\n",
    "    plt.title(chart_title)"
   ]
  },
  {
   "cell_type": "code",
   "execution_count": 36,
   "metadata": {
    "scrolled": true
   },
   "outputs": [
    {
     "data": {
      "image/png": "[encoded data removed]",
      "text/plain": [
       "<Figure size 432x288 with 1 Axes>"
      ]
     },
     "metadata": {},
     "output_type": "display_data"
    }
   ],
   "source": [
    "# make a scatter of average rating and ratings count\n",
    "plot_scatter(df_train, 'ratings_count', 'average_rating', 'Scatter Plot of Average Rating Vs Ratings Count')"
   ]
  },
  {
   "cell_type": "code",
   "execution_count": 37,
   "metadata": {},
   "outputs": [
    {
     "data": {
      "image/png": "[encoded data removed]",
      "text/plain": [
       "<Figure size 432x288 with 1 Axes>"
      ]
     },
     "metadata": {},
     "output_type": "display_data"
    }
   ],
   "source": [
    "# make a regression plot of average rating and ratings count\n",
    "plot_scatter_and_trendline(df_train['ratings_count'], df_train['average_rating'], 'Regression Plot of Average Rating and Ratings Count')"
   ]
  },
  {
   "cell_type": "code",
   "execution_count": 38,
   "metadata": {},
   "outputs": [
    {
     "data": {
      "image/png": "[encoded data removed]",
      "text/plain": [
       "<Figure size 432x288 with 1 Axes>"
      ]
     },
     "metadata": {},
     "output_type": "display_data"
    }
   ],
   "source": [
    "# make a regression plot of average rating and books count\n",
    "plot_scatter_and_trendline(df_train['books_count'], df_train['average_rating'], 'Regression Plot of Average Rating and Books Count')"
   ]
  },
  {
   "cell_type": "code",
   "execution_count": 39,
   "metadata": {
    "scrolled": true
   },
   "outputs": [
    {
     "data": {
      "image/png": "[encoded data removed]",
      "text/plain": [
       "<Figure size 432x288 with 1 Axes>"
      ]
     },
     "metadata": {},
     "output_type": "display_data"
    }
   ],
   "source": [
    "# make a regression plot of average rating and Authors count\n",
    "plot_scatter_and_trendline(df_train['author_count'], df_train['average_rating'], 'Regression Plot of Average Ratings and Author Count')"
   ]
  },
  {
   "cell_type": "code",
   "execution_count": 40,
   "metadata": {},
   "outputs": [
    {
     "data": {
      "image/png": "[encoded data removed]",
      "text/plain": [
       "<Figure size 432x288 with 1 Axes>"
      ]
     },
     "metadata": {},
     "output_type": "display_data"
    }
   ],
   "source": [
    "# make a regression plot of average rating and to_read count\n",
    "df_train['to_read_count']= df_train['to_read_count'].astype(int)\n",
    "plot_scatter_and_trendline(df_train['to_read_count'], df_train['average_rating'], 'Regression Plot of Average Ratings Vs to_read Count')"
   ]
  },
  {
   "cell_type": "code",
   "execution_count": 41,
   "metadata": {},
   "outputs": [
    {
     "data": {
      "text/plain": [
       "Text(0.5, 1.0, 'Bar Plot of Cleaned tags and Average Ratings')"
      ]
     },
     "execution_count": 41,
     "metadata": {},
     "output_type": "execute_result"
    },
    {
     "data": {
      "image/png": "[encoded data removed]",
      "text/plain": [
       "<Figure size 432x288 with 1 Axes>"
      ]
     },
     "metadata": {},
     "output_type": "display_data"
    }
   ],
   "source": [
    "df_train.groupby('tag_cleaned').mean()[['average_rating']].plot(kind='bar')\n",
    "plt.xlabel('Cleaned Tags')\n",
    "plt.ylabel('Average Ratings')\n",
    "plt.title('Bar Plot of Cleaned tags and Average Ratings')"
   ]
  },
  {
   "cell_type": "markdown",
   "metadata": {},
   "source": [
    "## Preparation of Data for Machine Learning Prediction"
   ]
  },
  {
   "cell_type": "markdown",
   "metadata": {},
   "source": [
    "### Dividing training data into training and validation dataset"
   ]
  },
  {
   "cell_type": "code",
   "execution_count": 42,
   "metadata": {},
   "outputs": [],
   "source": [
    "from sklearn.model_selection import train_test_split\n",
    "\n",
    "# Divide the training data into training (80%) and validation (20%)\n",
    "df_train, df_valid = train_test_split(df_train, train_size=0.8, random_state=42, stratify=df_train[target])\n",
    "\n",
    "# Reset the index\n",
    "df_train, df_valid = df_train.reset_index(drop=True), df_valid.reset_index(drop=True)"
   ]
  },
  {
   "cell_type": "markdown",
   "metadata": {},
   "source": [
    "### Handling identifiers"
   ]
  },
  {
   "cell_type": "markdown",
   "metadata": {},
   "source": [
    "#### Combining training, validation and test dataset"
   ]
  },
  {
   "cell_type": "code",
   "execution_count": 43,
   "metadata": {},
   "outputs": [],
   "source": [
    "# Combine df_train, df_valid and df_test\n",
    "df = pd.concat([df_train, df_valid, df_test], sort=False)"
   ]
  },
  {
   "cell_type": "markdown",
   "metadata": {},
   "source": [
    "#### Identifying the identifiers"
   ]
  },
  {
   "cell_type": "code",
   "execution_count": 44,
   "metadata": {},
   "outputs": [],
   "source": [
    "def id_checker(df):\n",
    "    \"\"\"\n",
    "    The identifier checker\n",
    "\n",
    "    Parameters\n",
    "    ----------\n",
    "    df : dataframe\n",
    "    \n",
    "    Returns\n",
    "    ----------\n",
    "    The dataframe of identifiers\n",
    "    \"\"\"\n",
    "    \n",
    "    # Get the identifiers\n",
    "    df_id = df[[var for var in df.columns \n",
    "                if df[var].nunique(dropna=True) == df[var].notnull().sum()]]\n",
    "                \n",
    "    return df_id"
   ]
  },
  {
   "cell_type": "code",
   "execution_count": 45,
   "metadata": {},
   "outputs": [
    {
     "data": {
      "text/html": [
       "<div>\n",
       "<style scoped>\n",
       "    .dataframe tbody tr th:only-of-type {\n",
       "        vertical-align: middle;\n",
       "    }\n",
       "\n",
       "    .dataframe tbody tr th {\n",
       "        vertical-align: top;\n",
       "    }\n",
       "\n",
       "    .dataframe thead th {\n",
       "        text-align: right;\n",
       "    }\n",
       "</style>\n",
       "<table border=\"1\" class=\"dataframe\">\n",
       "  <thead>\n",
       "    <tr style=\"text-align: right;\">\n",
       "      <th></th>\n",
       "      <th>id</th>\n",
       "      <th>book_id</th>\n",
       "      <th>best_book_id</th>\n",
       "      <th>work_id</th>\n",
       "    </tr>\n",
       "  </thead>\n",
       "  <tbody>\n",
       "    <tr>\n",
       "      <th>0</th>\n",
       "      <td>2564</td>\n",
       "      <td>8647</td>\n",
       "      <td>8647</td>\n",
       "      <td>4088</td>\n",
       "    </tr>\n",
       "    <tr>\n",
       "      <th>1</th>\n",
       "      <td>8581</td>\n",
       "      <td>502295</td>\n",
       "      <td>502295</td>\n",
       "      <td>3352513</td>\n",
       "    </tr>\n",
       "    <tr>\n",
       "      <th>2</th>\n",
       "      <td>469</td>\n",
       "      <td>41899</td>\n",
       "      <td>41899</td>\n",
       "      <td>4195128</td>\n",
       "    </tr>\n",
       "    <tr>\n",
       "      <th>3</th>\n",
       "      <td>5651</td>\n",
       "      <td>17673307</td>\n",
       "      <td>17673307</td>\n",
       "      <td>24673151</td>\n",
       "    </tr>\n",
       "    <tr>\n",
       "      <th>4</th>\n",
       "      <td>5078</td>\n",
       "      <td>4758093</td>\n",
       "      <td>4758093</td>\n",
       "      <td>4822885</td>\n",
       "    </tr>\n",
       "  </tbody>\n",
       "</table>\n",
       "</div>"
      ],
      "text/plain": [
       "     id   book_id  best_book_id   work_id\n",
       "0  2564      8647          8647      4088\n",
       "1  8581    502295        502295   3352513\n",
       "2   469     41899         41899   4195128\n",
       "3  5651  17673307      17673307  24673151\n",
       "4  5078   4758093       4758093   4822885"
      ]
     },
     "execution_count": 45,
     "metadata": {},
     "output_type": "execute_result"
    }
   ],
   "source": [
    "# Call id_checker on df\n",
    "df_id = id_checker(df)\n",
    "\n",
    "# Print the first 5 rows of df_id\n",
    "df_id.head()"
   ]
  },
  {
   "cell_type": "markdown",
   "metadata": {},
   "source": [
    "#### Removing the identifiers"
   ]
  },
  {
   "cell_type": "code",
   "execution_count": 46,
   "metadata": {},
   "outputs": [],
   "source": [
    "# Remove the identifiers from df_train\n",
    "df_train = df_train.drop(columns=df_id.columns)\n",
    "\n",
    "# Remove the identifiers from df_valid\n",
    "df_valid = df_valid.drop(columns=df_id.columns)\n",
    "\n",
    "# Remove the identifiers from df_test\n",
    "df_test = df_test.drop(columns=df_id.columns)"
   ]
  },
  {
   "cell_type": "code",
   "execution_count": 47,
   "metadata": {},
   "outputs": [
    {
     "data": {
      "text/html": [
       "<div>\n",
       "<style scoped>\n",
       "    .dataframe tbody tr th:only-of-type {\n",
       "        vertical-align: middle;\n",
       "    }\n",
       "\n",
       "    .dataframe tbody tr th {\n",
       "        vertical-align: top;\n",
       "    }\n",
       "\n",
       "    .dataframe thead th {\n",
       "        text-align: right;\n",
       "    }\n",
       "</style>\n",
       "<table border=\"1\" class=\"dataframe\">\n",
       "  <thead>\n",
       "    <tr style=\"text-align: right;\">\n",
       "      <th></th>\n",
       "      <th>books_count</th>\n",
       "      <th>isbn</th>\n",
       "      <th>isbn13</th>\n",
       "      <th>authors</th>\n",
       "      <th>original_publication_year</th>\n",
       "      <th>original_title</th>\n",
       "      <th>title</th>\n",
       "      <th>language_code</th>\n",
       "      <th>average_rating</th>\n",
       "      <th>ratings_count</th>\n",
       "      <th>...</th>\n",
       "      <th>ratings_2</th>\n",
       "      <th>ratings_3</th>\n",
       "      <th>ratings_4</th>\n",
       "      <th>ratings_5</th>\n",
       "      <th>image_url</th>\n",
       "      <th>small_image_url</th>\n",
       "      <th>tag_cleaned</th>\n",
       "      <th>to_read_count</th>\n",
       "      <th>author_count</th>\n",
       "      <th>avg_rating</th>\n",
       "    </tr>\n",
       "  </thead>\n",
       "  <tbody>\n",
       "    <tr>\n",
       "      <th>0</th>\n",
       "      <td>34</td>\n",
       "      <td>1841492051</td>\n",
       "      <td>9.78184e+12</td>\n",
       "      <td>Orson Scott Card</td>\n",
       "      <td>2005</td>\n",
       "      <td>Shadow of the Giant</td>\n",
       "      <td>Shadow of the Giant (Ender's Shadow, #4)</td>\n",
       "      <td>eng</td>\n",
       "      <td>3.98</td>\n",
       "      <td>37479</td>\n",
       "      <td>...</td>\n",
       "      <td>1795</td>\n",
       "      <td>9330</td>\n",
       "      <td>16805</td>\n",
       "      <td>13388</td>\n",
       "      <td>https://s.gr-assets.com/assets/nophoto/book/11...</td>\n",
       "      <td>https://s.gr-assets.com/assets/nophoto/book/50...</td>\n",
       "      <td>to-read</td>\n",
       "      <td>20</td>\n",
       "      <td>1</td>\n",
       "      <td>4</td>\n",
       "    </tr>\n",
       "    <tr>\n",
       "      <th>1</th>\n",
       "      <td>19</td>\n",
       "      <td>316005274</td>\n",
       "      <td>9.78032e+12</td>\n",
       "      <td>Jann S. Wenner, Corey Seymour</td>\n",
       "      <td>2007</td>\n",
       "      <td>Gonzo: The Life of Hunter S. Thompson</td>\n",
       "      <td>Gonzo: The Life of Hunter S. Thompson</td>\n",
       "      <td>en-US</td>\n",
       "      <td>4.07</td>\n",
       "      <td>9915</td>\n",
       "      <td>...</td>\n",
       "      <td>324</td>\n",
       "      <td>2117</td>\n",
       "      <td>3879</td>\n",
       "      <td>3710</td>\n",
       "      <td>https://s.gr-assets.com/assets/nophoto/book/11...</td>\n",
       "      <td>https://s.gr-assets.com/assets/nophoto/book/50...</td>\n",
       "      <td>to-read</td>\n",
       "      <td>0</td>\n",
       "      <td>2</td>\n",
       "      <td>4</td>\n",
       "    </tr>\n",
       "    <tr>\n",
       "      <th>2</th>\n",
       "      <td>123</td>\n",
       "      <td>439321603</td>\n",
       "      <td>9.78044e+12</td>\n",
       "      <td>Newt Scamander, J.K. Rowling, Albus Dumbledore</td>\n",
       "      <td>2001</td>\n",
       "      <td>Fantastic Beasts and Where to Find Them</td>\n",
       "      <td>Fantastic Beasts and Where to Find Them</td>\n",
       "      <td>eng</td>\n",
       "      <td>3.95</td>\n",
       "      <td>185928</td>\n",
       "      <td>...</td>\n",
       "      <td>13155</td>\n",
       "      <td>52573</td>\n",
       "      <td>64027</td>\n",
       "      <td>76863</td>\n",
       "      <td>https://images.gr-assets.com/books/1303738520m...</td>\n",
       "      <td>https://images.gr-assets.com/books/1303738520s...</td>\n",
       "      <td>other</td>\n",
       "      <td>0</td>\n",
       "      <td>3</td>\n",
       "      <td>4</td>\n",
       "    </tr>\n",
       "    <tr>\n",
       "      <th>3</th>\n",
       "      <td>11</td>\n",
       "      <td>0</td>\n",
       "      <td>0</td>\n",
       "      <td>Penny Reid</td>\n",
       "      <td>2013</td>\n",
       "      <td>Neanderthal Seeks Human</td>\n",
       "      <td>Neanderthal Seeks Human (Knitting in the City,...</td>\n",
       "      <td>eng</td>\n",
       "      <td>3.96</td>\n",
       "      <td>29612</td>\n",
       "      <td>...</td>\n",
       "      <td>1635</td>\n",
       "      <td>6111</td>\n",
       "      <td>10828</td>\n",
       "      <td>10564</td>\n",
       "      <td>https://images.gr-assets.com/books/1364347894m...</td>\n",
       "      <td>https://images.gr-assets.com/books/1364347894s...</td>\n",
       "      <td>to-read</td>\n",
       "      <td>0</td>\n",
       "      <td>1</td>\n",
       "      <td>4</td>\n",
       "    </tr>\n",
       "    <tr>\n",
       "      <th>4</th>\n",
       "      <td>30</td>\n",
       "      <td>61767581</td>\n",
       "      <td>9.78006e+12</td>\n",
       "      <td>Lauren Conrad</td>\n",
       "      <td>2009</td>\n",
       "      <td>L.A. Candy</td>\n",
       "      <td>L.A. Candy (L.A. Candy, #1)</td>\n",
       "      <td>en-US</td>\n",
       "      <td>3.36</td>\n",
       "      <td>21910</td>\n",
       "      <td>...</td>\n",
       "      <td>3587</td>\n",
       "      <td>8352</td>\n",
       "      <td>6128</td>\n",
       "      <td>4143</td>\n",
       "      <td>https://s.gr-assets.com/assets/nophoto/book/11...</td>\n",
       "      <td>https://s.gr-assets.com/assets/nophoto/book/50...</td>\n",
       "      <td>to-read</td>\n",
       "      <td>0</td>\n",
       "      <td>1</td>\n",
       "      <td>3</td>\n",
       "    </tr>\n",
       "  </tbody>\n",
       "</table>\n",
       "<p>5 rows × 23 columns</p>\n",
       "</div>"
      ],
      "text/plain": [
       "   books_count        isbn       isbn13  \\\n",
       "0           34  1841492051  9.78184e+12   \n",
       "1           19   316005274  9.78032e+12   \n",
       "2          123   439321603  9.78044e+12   \n",
       "3           11           0            0   \n",
       "4           30    61767581  9.78006e+12   \n",
       "\n",
       "                                          authors  original_publication_year  \\\n",
       "0                                Orson Scott Card                       2005   \n",
       "1                   Jann S. Wenner, Corey Seymour                       2007   \n",
       "2  Newt Scamander, J.K. Rowling, Albus Dumbledore                       2001   \n",
       "3                                      Penny Reid                       2013   \n",
       "4                                   Lauren Conrad                       2009   \n",
       "\n",
       "                            original_title  \\\n",
       "0                      Shadow of the Giant   \n",
       "1    Gonzo: The Life of Hunter S. Thompson   \n",
       "2  Fantastic Beasts and Where to Find Them   \n",
       "3                  Neanderthal Seeks Human   \n",
       "4                               L.A. Candy   \n",
       "\n",
       "                                               title language_code  \\\n",
       "0           Shadow of the Giant (Ender's Shadow, #4)           eng   \n",
       "1              Gonzo: The Life of Hunter S. Thompson         en-US   \n",
       "2            Fantastic Beasts and Where to Find Them           eng   \n",
       "3  Neanderthal Seeks Human (Knitting in the City,...           eng   \n",
       "4                        L.A. Candy (L.A. Candy, #1)         en-US   \n",
       "\n",
       "   average_rating  ratings_count  ...  ratings_2  ratings_3  ratings_4  \\\n",
       "0            3.98          37479  ...       1795       9330      16805   \n",
       "1            4.07           9915  ...        324       2117       3879   \n",
       "2            3.95         185928  ...      13155      52573      64027   \n",
       "3            3.96          29612  ...       1635       6111      10828   \n",
       "4            3.36          21910  ...       3587       8352       6128   \n",
       "\n",
       "   ratings_5                                          image_url  \\\n",
       "0      13388  https://s.gr-assets.com/assets/nophoto/book/11...   \n",
       "1       3710  https://s.gr-assets.com/assets/nophoto/book/11...   \n",
       "2      76863  https://images.gr-assets.com/books/1303738520m...   \n",
       "3      10564  https://images.gr-assets.com/books/1364347894m...   \n",
       "4       4143  https://s.gr-assets.com/assets/nophoto/book/11...   \n",
       "\n",
       "                                     small_image_url  tag_cleaned  \\\n",
       "0  https://s.gr-assets.com/assets/nophoto/book/50...      to-read   \n",
       "1  https://s.gr-assets.com/assets/nophoto/book/50...      to-read   \n",
       "2  https://images.gr-assets.com/books/1303738520s...        other   \n",
       "3  https://images.gr-assets.com/books/1364347894s...      to-read   \n",
       "4  https://s.gr-assets.com/assets/nophoto/book/50...      to-read   \n",
       "\n",
       "  to_read_count author_count avg_rating  \n",
       "0            20            1          4  \n",
       "1             0            2          4  \n",
       "2             0            3          4  \n",
       "3             0            1          4  \n",
       "4             0            1          3  \n",
       "\n",
       "[5 rows x 23 columns]"
      ]
     },
     "execution_count": 47,
     "metadata": {},
     "output_type": "execute_result"
    }
   ],
   "source": [
    "# Print the first 5 rows of df_train\n",
    "df_train.head()"
   ]
  },
  {
   "cell_type": "markdown",
   "metadata": {},
   "source": [
    "### Handling Missing Data"
   ]
  },
  {
   "cell_type": "code",
   "execution_count": 48,
   "metadata": {},
   "outputs": [],
   "source": [
    "# Combine df_train, df_valid and df_test\n",
    "df = pd.concat([df_train, df_valid, df_test], sort=False)"
   ]
  },
  {
   "cell_type": "markdown",
   "metadata": {},
   "source": [
    "#### Identifying Missing Data"
   ]
  },
  {
   "cell_type": "code",
   "execution_count": 49,
   "metadata": {},
   "outputs": [],
   "source": [
    "def nan_checker(df):\n",
    "    \"\"\"\n",
    "    The NaN checker\n",
    "\n",
    "    Parameters\n",
    "    ----------\n",
    "    df : dataframe\n",
    "    \n",
    "    Returns\n",
    "    ----------\n",
    "    The dataframe of variables with NaN, their proportion of NaN and dtype\n",
    "    \"\"\"\n",
    "    \n",
    "    # Get the variables with NaN, their proportion of NaN and dtype\n",
    "    df_nan = pd.DataFrame([[var, df[var].isna().sum() / df.shape[0], df[var].dtype]\n",
    "                           for var in df.columns if df[var].isna().sum() > 0],\n",
    "                          columns=['var', 'proportion', 'dtype'])\n",
    "    \n",
    "    # Sort df_nan in accending order of the proportion of NaN\n",
    "    df_nan = df_nan.sort_values(by='proportion', ascending=False).reset_index(drop=True)\n",
    "    \n",
    "    return df_nan"
   ]
  },
  {
   "cell_type": "code",
   "execution_count": 50,
   "metadata": {},
   "outputs": [
    {
     "data": {
      "text/html": [
       "<div>\n",
       "<style scoped>\n",
       "    .dataframe tbody tr th:only-of-type {\n",
       "        vertical-align: middle;\n",
       "    }\n",
       "\n",
       "    .dataframe tbody tr th {\n",
       "        vertical-align: top;\n",
       "    }\n",
       "\n",
       "    .dataframe thead th {\n",
       "        text-align: right;\n",
       "    }\n",
       "</style>\n",
       "<table border=\"1\" class=\"dataframe\">\n",
       "  <thead>\n",
       "    <tr style=\"text-align: right;\">\n",
       "      <th></th>\n",
       "      <th>var</th>\n",
       "      <th>proportion</th>\n",
       "      <th>dtype</th>\n",
       "    </tr>\n",
       "  </thead>\n",
       "  <tbody>\n",
       "    <tr>\n",
       "      <th>0</th>\n",
       "      <td>avg_rating</td>\n",
       "      <td>0.20002</td>\n",
       "      <td>object</td>\n",
       "    </tr>\n",
       "  </tbody>\n",
       "</table>\n",
       "</div>"
      ],
      "text/plain": [
       "          var  proportion   dtype\n",
       "0  avg_rating     0.20002  object"
      ]
     },
     "execution_count": 50,
     "metadata": {},
     "output_type": "execute_result"
    }
   ],
   "source": [
    "# Call nan_checker on df\n",
    "df_nan = nan_checker(df)\n",
    "\n",
    "# Print df_nan\n",
    "df_nan"
   ]
  },
  {
   "cell_type": "code",
   "execution_count": 51,
   "metadata": {},
   "outputs": [
    {
     "data": {
      "text/html": [
       "<div>\n",
       "<style scoped>\n",
       "    .dataframe tbody tr th:only-of-type {\n",
       "        vertical-align: middle;\n",
       "    }\n",
       "\n",
       "    .dataframe tbody tr th {\n",
       "        vertical-align: top;\n",
       "    }\n",
       "\n",
       "    .dataframe thead th {\n",
       "        text-align: right;\n",
       "    }\n",
       "</style>\n",
       "<table border=\"1\" class=\"dataframe\">\n",
       "  <thead>\n",
       "    <tr style=\"text-align: right;\">\n",
       "      <th></th>\n",
       "      <th>dtype</th>\n",
       "    </tr>\n",
       "  </thead>\n",
       "  <tbody>\n",
       "    <tr>\n",
       "      <th>0</th>\n",
       "      <td>object</td>\n",
       "    </tr>\n",
       "  </tbody>\n",
       "</table>\n",
       "</div>"
      ],
      "text/plain": [
       "    dtype\n",
       "0  object"
      ]
     },
     "execution_count": 51,
     "metadata": {},
     "output_type": "execute_result"
    }
   ],
   "source": [
    "# Print the unique dtype of the variables with NaN\n",
    "pd.DataFrame(df_nan['dtype'].unique(), columns=['dtype'])"
   ]
  },
  {
   "cell_type": "code",
   "execution_count": 52,
   "metadata": {},
   "outputs": [
    {
     "data": {
      "text/html": [
       "<div>\n",
       "<style scoped>\n",
       "    .dataframe tbody tr th:only-of-type {\n",
       "        vertical-align: middle;\n",
       "    }\n",
       "\n",
       "    .dataframe tbody tr th {\n",
       "        vertical-align: top;\n",
       "    }\n",
       "\n",
       "    .dataframe thead th {\n",
       "        text-align: right;\n",
       "    }\n",
       "</style>\n",
       "<table border=\"1\" class=\"dataframe\">\n",
       "  <thead>\n",
       "    <tr style=\"text-align: right;\">\n",
       "      <th></th>\n",
       "      <th>var</th>\n",
       "      <th>proportion</th>\n",
       "      <th>dtype</th>\n",
       "    </tr>\n",
       "  </thead>\n",
       "  <tbody>\n",
       "  </tbody>\n",
       "</table>\n",
       "</div>"
      ],
      "text/plain": [
       "Empty DataFrame\n",
       "Columns: [var, proportion, dtype]\n",
       "Index: []"
      ]
     },
     "execution_count": 52,
     "metadata": {},
     "output_type": "execute_result"
    }
   ],
   "source": [
    "# Get the variables with missing values, their proportion of missing values and dtype\n",
    "df_miss = df_nan[df_nan['dtype'] == 'float64'].reset_index(drop=True)\n",
    "\n",
    "# Print df_miss\n",
    "df_miss"
   ]
  },
  {
   "cell_type": "markdown",
   "metadata": {},
   "source": [
    "#### Removing missing values"
   ]
  },
  {
   "cell_type": "code",
   "execution_count": 53,
   "metadata": {},
   "outputs": [],
   "source": [
    "# Remove rows with missing values from df_train\n",
    "df_train = df_train.dropna(subset=np.intersect1d(df_miss['var'], df_train.columns),\n",
    "                           inplace=False)\n",
    "\n",
    "# Remove rows with missing values from df_valid\n",
    "df_valid = df_valid.dropna(subset=np.intersect1d(df_miss['var'], df_valid.columns),\n",
    "                           inplace=False)\n",
    "\n",
    "# Remove rows with missing values from df_test\n",
    "df_test = df_test.dropna(subset=np.intersect1d(df_miss['var'], df_test.columns),\n",
    "                         inplace=False)"
   ]
  },
  {
   "cell_type": "code",
   "execution_count": 54,
   "metadata": {},
   "outputs": [
    {
     "data": {
      "text/html": [
       "<div>\n",
       "<style scoped>\n",
       "    .dataframe tbody tr th:only-of-type {\n",
       "        vertical-align: middle;\n",
       "    }\n",
       "\n",
       "    .dataframe tbody tr th {\n",
       "        vertical-align: top;\n",
       "    }\n",
       "\n",
       "    .dataframe thead th {\n",
       "        text-align: right;\n",
       "    }\n",
       "</style>\n",
       "<table border=\"1\" class=\"dataframe\">\n",
       "  <thead>\n",
       "    <tr style=\"text-align: right;\">\n",
       "      <th></th>\n",
       "      <th># rows</th>\n",
       "      <th># columns</th>\n",
       "    </tr>\n",
       "  </thead>\n",
       "  <tbody>\n",
       "    <tr>\n",
       "      <th>0</th>\n",
       "      <td>6399</td>\n",
       "      <td>23</td>\n",
       "    </tr>\n",
       "  </tbody>\n",
       "</table>\n",
       "</div>"
      ],
      "text/plain": [
       "   # rows  # columns\n",
       "0    6399         23"
      ]
     },
     "execution_count": 54,
     "metadata": {},
     "output_type": "execute_result"
    }
   ],
   "source": [
    "# Print the dimension of df_train\n",
    "pd.DataFrame([[df_train.shape[0], df_train.shape[1]]], columns=['# rows', '# columns'])"
   ]
  },
  {
   "cell_type": "code",
   "execution_count": 55,
   "metadata": {},
   "outputs": [
    {
     "data": {
      "text/html": [
       "<div>\n",
       "<style scoped>\n",
       "    .dataframe tbody tr th:only-of-type {\n",
       "        vertical-align: middle;\n",
       "    }\n",
       "\n",
       "    .dataframe tbody tr th {\n",
       "        vertical-align: top;\n",
       "    }\n",
       "\n",
       "    .dataframe thead th {\n",
       "        text-align: right;\n",
       "    }\n",
       "</style>\n",
       "<table border=\"1\" class=\"dataframe\">\n",
       "  <thead>\n",
       "    <tr style=\"text-align: right;\">\n",
       "      <th></th>\n",
       "      <th># rows</th>\n",
       "      <th># columns</th>\n",
       "    </tr>\n",
       "  </thead>\n",
       "  <tbody>\n",
       "    <tr>\n",
       "      <th>0</th>\n",
       "      <td>1600</td>\n",
       "      <td>23</td>\n",
       "    </tr>\n",
       "  </tbody>\n",
       "</table>\n",
       "</div>"
      ],
      "text/plain": [
       "   # rows  # columns\n",
       "0    1600         23"
      ]
     },
     "execution_count": 55,
     "metadata": {},
     "output_type": "execute_result"
    }
   ],
   "source": [
    "# Print the dimension of df_valid\n",
    "pd.DataFrame([[df_valid.shape[0], df_valid.shape[1]]], columns=['# rows', '# columns'])"
   ]
  },
  {
   "cell_type": "code",
   "execution_count": 56,
   "metadata": {
    "scrolled": true
   },
   "outputs": [
    {
     "data": {
      "text/html": [
       "<div>\n",
       "<style scoped>\n",
       "    .dataframe tbody tr th:only-of-type {\n",
       "        vertical-align: middle;\n",
       "    }\n",
       "\n",
       "    .dataframe tbody tr th {\n",
       "        vertical-align: top;\n",
       "    }\n",
       "\n",
       "    .dataframe thead th {\n",
       "        text-align: right;\n",
       "    }\n",
       "</style>\n",
       "<table border=\"1\" class=\"dataframe\">\n",
       "  <thead>\n",
       "    <tr style=\"text-align: right;\">\n",
       "      <th></th>\n",
       "      <th># rows</th>\n",
       "      <th># columns</th>\n",
       "    </tr>\n",
       "  </thead>\n",
       "  <tbody>\n",
       "    <tr>\n",
       "      <th>0</th>\n",
       "      <td>2000</td>\n",
       "      <td>22</td>\n",
       "    </tr>\n",
       "  </tbody>\n",
       "</table>\n",
       "</div>"
      ],
      "text/plain": [
       "   # rows  # columns\n",
       "0    2000         22"
      ]
     },
     "execution_count": 56,
     "metadata": {},
     "output_type": "execute_result"
    }
   ],
   "source": [
    "# Print the dimension of df_test\n",
    "pd.DataFrame([[df_test.shape[0], df_test.shape[1]]], columns=['# rows', '# columns'])"
   ]
  },
  {
   "cell_type": "markdown",
   "metadata": {},
   "source": [
    "### Remove irrelevant features"
   ]
  },
  {
   "cell_type": "code",
   "execution_count": 57,
   "metadata": {},
   "outputs": [],
   "source": [
    "to_remove = ['isbn', 'isbn13', 'authors', 'original_title', 'title', \n",
    "             'ratings_1', 'ratings_2', 'ratings_3', 'ratings_4', 'ratings_5',\n",
    "            'image_url', 'small_image_url', 'average_rating', 'to_read_count']"
   ]
  },
  {
   "cell_type": "code",
   "execution_count": 58,
   "metadata": {},
   "outputs": [],
   "source": [
    "# Remove rows with irrelevant columns from df_train\n",
    "df_train = df_train.drop(columns=to_remove)\n",
    "\n",
    "# Remove rows with irrelevant columns from df_valid\n",
    "df_valid = df_valid.drop(columns=to_remove)\n",
    "\n",
    "# Remove rows with irrelevant columns values from df_test\n",
    "df_test = df_test.drop(columns=to_remove)"
   ]
  },
  {
   "cell_type": "code",
   "execution_count": 59,
   "metadata": {},
   "outputs": [
    {
     "data": {
      "text/html": [
       "<div>\n",
       "<style scoped>\n",
       "    .dataframe tbody tr th:only-of-type {\n",
       "        vertical-align: middle;\n",
       "    }\n",
       "\n",
       "    .dataframe tbody tr th {\n",
       "        vertical-align: top;\n",
       "    }\n",
       "\n",
       "    .dataframe thead th {\n",
       "        text-align: right;\n",
       "    }\n",
       "</style>\n",
       "<table border=\"1\" class=\"dataframe\">\n",
       "  <thead>\n",
       "    <tr style=\"text-align: right;\">\n",
       "      <th></th>\n",
       "      <th># rows</th>\n",
       "      <th># columns</th>\n",
       "    </tr>\n",
       "  </thead>\n",
       "  <tbody>\n",
       "    <tr>\n",
       "      <th>0</th>\n",
       "      <td>6399</td>\n",
       "      <td>9</td>\n",
       "    </tr>\n",
       "  </tbody>\n",
       "</table>\n",
       "</div>"
      ],
      "text/plain": [
       "   # rows  # columns\n",
       "0    6399          9"
      ]
     },
     "execution_count": 59,
     "metadata": {},
     "output_type": "execute_result"
    }
   ],
   "source": [
    "# Print the dimension of df_train\n",
    "pd.DataFrame([[df_train.shape[0], df_train.shape[1]]], columns=['# rows', '# columns'])"
   ]
  },
  {
   "cell_type": "code",
   "execution_count": 60,
   "metadata": {},
   "outputs": [
    {
     "data": {
      "text/html": [
       "<div>\n",
       "<style scoped>\n",
       "    .dataframe tbody tr th:only-of-type {\n",
       "        vertical-align: middle;\n",
       "    }\n",
       "\n",
       "    .dataframe tbody tr th {\n",
       "        vertical-align: top;\n",
       "    }\n",
       "\n",
       "    .dataframe thead th {\n",
       "        text-align: right;\n",
       "    }\n",
       "</style>\n",
       "<table border=\"1\" class=\"dataframe\">\n",
       "  <thead>\n",
       "    <tr style=\"text-align: right;\">\n",
       "      <th></th>\n",
       "      <th># rows</th>\n",
       "      <th># columns</th>\n",
       "    </tr>\n",
       "  </thead>\n",
       "  <tbody>\n",
       "    <tr>\n",
       "      <th>0</th>\n",
       "      <td>1600</td>\n",
       "      <td>9</td>\n",
       "    </tr>\n",
       "  </tbody>\n",
       "</table>\n",
       "</div>"
      ],
      "text/plain": [
       "   # rows  # columns\n",
       "0    1600          9"
      ]
     },
     "execution_count": 60,
     "metadata": {},
     "output_type": "execute_result"
    }
   ],
   "source": [
    "# Print the dimension of df_valid\n",
    "pd.DataFrame([[df_valid.shape[0], df_valid.shape[1]]], columns=['# rows', '# columns'])"
   ]
  },
  {
   "cell_type": "code",
   "execution_count": 61,
   "metadata": {},
   "outputs": [
    {
     "data": {
      "text/html": [
       "<div>\n",
       "<style scoped>\n",
       "    .dataframe tbody tr th:only-of-type {\n",
       "        vertical-align: middle;\n",
       "    }\n",
       "\n",
       "    .dataframe tbody tr th {\n",
       "        vertical-align: top;\n",
       "    }\n",
       "\n",
       "    .dataframe thead th {\n",
       "        text-align: right;\n",
       "    }\n",
       "</style>\n",
       "<table border=\"1\" class=\"dataframe\">\n",
       "  <thead>\n",
       "    <tr style=\"text-align: right;\">\n",
       "      <th></th>\n",
       "      <th># rows</th>\n",
       "      <th># columns</th>\n",
       "    </tr>\n",
       "  </thead>\n",
       "  <tbody>\n",
       "    <tr>\n",
       "      <th>0</th>\n",
       "      <td>2000</td>\n",
       "      <td>8</td>\n",
       "    </tr>\n",
       "  </tbody>\n",
       "</table>\n",
       "</div>"
      ],
      "text/plain": [
       "   # rows  # columns\n",
       "0    2000          8"
      ]
     },
     "execution_count": 61,
     "metadata": {},
     "output_type": "execute_result"
    }
   ],
   "source": [
    "# Print the dimension of df_test\n",
    "pd.DataFrame([[df_test.shape[0], df_test.shape[1]]], columns=['# rows', '# columns'])"
   ]
  },
  {
   "cell_type": "markdown",
   "metadata": {},
   "source": [
    "### Encoding the data"
   ]
  },
  {
   "cell_type": "markdown",
   "metadata": {},
   "source": [
    "#### Combining the training, validation and testing data\n"
   ]
  },
  {
   "cell_type": "code",
   "execution_count": 62,
   "metadata": {},
   "outputs": [
    {
     "data": {
      "text/html": [
       "<div>\n",
       "<style scoped>\n",
       "    .dataframe tbody tr th:only-of-type {\n",
       "        vertical-align: middle;\n",
       "    }\n",
       "\n",
       "    .dataframe tbody tr th {\n",
       "        vertical-align: top;\n",
       "    }\n",
       "\n",
       "    .dataframe thead th {\n",
       "        text-align: right;\n",
       "    }\n",
       "</style>\n",
       "<table border=\"1\" class=\"dataframe\">\n",
       "  <thead>\n",
       "    <tr style=\"text-align: right;\">\n",
       "      <th></th>\n",
       "      <th>dtype</th>\n",
       "    </tr>\n",
       "  </thead>\n",
       "  <tbody>\n",
       "    <tr>\n",
       "      <th>0</th>\n",
       "      <td>int64</td>\n",
       "    </tr>\n",
       "    <tr>\n",
       "      <th>1</th>\n",
       "      <td>int32</td>\n",
       "    </tr>\n",
       "    <tr>\n",
       "      <th>2</th>\n",
       "      <td>object</td>\n",
       "    </tr>\n",
       "  </tbody>\n",
       "</table>\n",
       "</div>"
      ],
      "text/plain": [
       "    dtype\n",
       "0   int64\n",
       "1   int32\n",
       "2  object"
      ]
     },
     "execution_count": 62,
     "metadata": {},
     "output_type": "execute_result"
    }
   ],
   "source": [
    "# Combine df_train, df_valid and df_test\n",
    "df = pd.concat([df_train, df_valid, df_test], sort=False)\n",
    "\n",
    "# Print the unique dtype of variables in df\n",
    "pd.DataFrame(df.dtypes.unique(), columns=['dtype'])"
   ]
  },
  {
   "cell_type": "markdown",
   "metadata": {},
   "source": [
    "#### Identifying the Categorical Variables"
   ]
  },
  {
   "cell_type": "code",
   "execution_count": 63,
   "metadata": {},
   "outputs": [],
   "source": [
    "def cat_var_checker(df):\n",
    "    \"\"\"\n",
    "    The categorical variable checker\n",
    "\n",
    "    Parameters\n",
    "    ----------\n",
    "    df: the dataframe\n",
    "    \n",
    "    Returns\n",
    "    ----------\n",
    "    The dataframe of categorical variables and their number of unique value\n",
    "    \"\"\"\n",
    "    \n",
    "    # Get the dataframe of categorical variables and their number of unique value\n",
    "    df_cat = pd.DataFrame([[var, df[var].nunique(dropna=False)]\n",
    "                           for var in df.columns if df[var].dtype == 'object'],\n",
    "                          columns=['var', 'nunique'])\n",
    "    \n",
    "    # Sort df_cat in accending order of the number of unique value\n",
    "    df_cat = df_cat.sort_values(by='nunique', ascending=False).reset_index(drop=True)\n",
    "    \n",
    "    return df_cat"
   ]
  },
  {
   "cell_type": "code",
   "execution_count": 64,
   "metadata": {},
   "outputs": [
    {
     "data": {
      "text/html": [
       "<div>\n",
       "<style scoped>\n",
       "    .dataframe tbody tr th:only-of-type {\n",
       "        vertical-align: middle;\n",
       "    }\n",
       "\n",
       "    .dataframe tbody tr th {\n",
       "        vertical-align: top;\n",
       "    }\n",
       "\n",
       "    .dataframe thead th {\n",
       "        text-align: right;\n",
       "    }\n",
       "</style>\n",
       "<table border=\"1\" class=\"dataframe\">\n",
       "  <thead>\n",
       "    <tr style=\"text-align: right;\">\n",
       "      <th></th>\n",
       "      <th>var</th>\n",
       "      <th>nunique</th>\n",
       "    </tr>\n",
       "  </thead>\n",
       "  <tbody>\n",
       "    <tr>\n",
       "      <th>0</th>\n",
       "      <td>tag_cleaned</td>\n",
       "      <td>13</td>\n",
       "    </tr>\n",
       "    <tr>\n",
       "      <th>1</th>\n",
       "      <td>language_code</td>\n",
       "      <td>9</td>\n",
       "    </tr>\n",
       "    <tr>\n",
       "      <th>2</th>\n",
       "      <td>avg_rating</td>\n",
       "      <td>4</td>\n",
       "    </tr>\n",
       "  </tbody>\n",
       "</table>\n",
       "</div>"
      ],
      "text/plain": [
       "             var  nunique\n",
       "0    tag_cleaned       13\n",
       "1  language_code        9\n",
       "2     avg_rating        4"
      ]
     },
     "execution_count": 64,
     "metadata": {},
     "output_type": "execute_result"
    }
   ],
   "source": [
    "# Call cat_var_checker on df\n",
    "df_cat = cat_var_checker(df)\n",
    "\n",
    "# Print the dataframe\n",
    "df_cat"
   ]
  },
  {
   "cell_type": "markdown",
   "metadata": {},
   "source": [
    "#### Encoding the categorical features\n"
   ]
  },
  {
   "cell_type": "code",
   "execution_count": 65,
   "metadata": {
    "scrolled": true
   },
   "outputs": [
    {
     "data": {
      "text/html": [
       "<div>\n",
       "<style scoped>\n",
       "    .dataframe tbody tr th:only-of-type {\n",
       "        vertical-align: middle;\n",
       "    }\n",
       "\n",
       "    .dataframe tbody tr th {\n",
       "        vertical-align: top;\n",
       "    }\n",
       "\n",
       "    .dataframe thead th {\n",
       "        text-align: right;\n",
       "    }\n",
       "</style>\n",
       "<table border=\"1\" class=\"dataframe\">\n",
       "  <thead>\n",
       "    <tr style=\"text-align: right;\">\n",
       "      <th></th>\n",
       "      <th>books_count</th>\n",
       "      <th>original_publication_year</th>\n",
       "      <th>ratings_count</th>\n",
       "      <th>work_ratings_count</th>\n",
       "      <th>work_text_reviews_count</th>\n",
       "      <th>author_count</th>\n",
       "      <th>avg_rating</th>\n",
       "      <th>language_code_0</th>\n",
       "      <th>language_code_ara</th>\n",
       "      <th>language_code_en-CA</th>\n",
       "      <th>...</th>\n",
       "      <th>tag_cleaned_favorites</th>\n",
       "      <th>tag_cleaned_fiction</th>\n",
       "      <th>tag_cleaned_historical-fiction</th>\n",
       "      <th>tag_cleaned_mystery</th>\n",
       "      <th>tag_cleaned_non-fiction</th>\n",
       "      <th>tag_cleaned_other</th>\n",
       "      <th>tag_cleaned_romance</th>\n",
       "      <th>tag_cleaned_science-fiction</th>\n",
       "      <th>tag_cleaned_to-read</th>\n",
       "      <th>tag_cleaned_young-adult</th>\n",
       "    </tr>\n",
       "  </thead>\n",
       "  <tbody>\n",
       "    <tr>\n",
       "      <th>0</th>\n",
       "      <td>34</td>\n",
       "      <td>2005</td>\n",
       "      <td>37479</td>\n",
       "      <td>41690</td>\n",
       "      <td>885</td>\n",
       "      <td>1</td>\n",
       "      <td>4</td>\n",
       "      <td>0</td>\n",
       "      <td>0</td>\n",
       "      <td>0</td>\n",
       "      <td>...</td>\n",
       "      <td>0</td>\n",
       "      <td>0</td>\n",
       "      <td>0</td>\n",
       "      <td>0</td>\n",
       "      <td>0</td>\n",
       "      <td>0</td>\n",
       "      <td>0</td>\n",
       "      <td>0</td>\n",
       "      <td>1</td>\n",
       "      <td>0</td>\n",
       "    </tr>\n",
       "    <tr>\n",
       "      <th>1</th>\n",
       "      <td>19</td>\n",
       "      <td>2007</td>\n",
       "      <td>9915</td>\n",
       "      <td>10108</td>\n",
       "      <td>252</td>\n",
       "      <td>2</td>\n",
       "      <td>4</td>\n",
       "      <td>0</td>\n",
       "      <td>0</td>\n",
       "      <td>0</td>\n",
       "      <td>...</td>\n",
       "      <td>0</td>\n",
       "      <td>0</td>\n",
       "      <td>0</td>\n",
       "      <td>0</td>\n",
       "      <td>0</td>\n",
       "      <td>0</td>\n",
       "      <td>0</td>\n",
       "      <td>0</td>\n",
       "      <td>1</td>\n",
       "      <td>0</td>\n",
       "    </tr>\n",
       "    <tr>\n",
       "      <th>2</th>\n",
       "      <td>123</td>\n",
       "      <td>2001</td>\n",
       "      <td>185928</td>\n",
       "      <td>209465</td>\n",
       "      <td>6523</td>\n",
       "      <td>3</td>\n",
       "      <td>4</td>\n",
       "      <td>0</td>\n",
       "      <td>0</td>\n",
       "      <td>0</td>\n",
       "      <td>...</td>\n",
       "      <td>0</td>\n",
       "      <td>0</td>\n",
       "      <td>0</td>\n",
       "      <td>0</td>\n",
       "      <td>0</td>\n",
       "      <td>1</td>\n",
       "      <td>0</td>\n",
       "      <td>0</td>\n",
       "      <td>0</td>\n",
       "      <td>0</td>\n",
       "    </tr>\n",
       "    <tr>\n",
       "      <th>3</th>\n",
       "      <td>11</td>\n",
       "      <td>2013</td>\n",
       "      <td>29612</td>\n",
       "      <td>29949</td>\n",
       "      <td>3104</td>\n",
       "      <td>1</td>\n",
       "      <td>4</td>\n",
       "      <td>0</td>\n",
       "      <td>0</td>\n",
       "      <td>0</td>\n",
       "      <td>...</td>\n",
       "      <td>0</td>\n",
       "      <td>0</td>\n",
       "      <td>0</td>\n",
       "      <td>0</td>\n",
       "      <td>0</td>\n",
       "      <td>0</td>\n",
       "      <td>0</td>\n",
       "      <td>0</td>\n",
       "      <td>1</td>\n",
       "      <td>0</td>\n",
       "    </tr>\n",
       "    <tr>\n",
       "      <th>4</th>\n",
       "      <td>30</td>\n",
       "      <td>2009</td>\n",
       "      <td>21910</td>\n",
       "      <td>23402</td>\n",
       "      <td>2076</td>\n",
       "      <td>1</td>\n",
       "      <td>3</td>\n",
       "      <td>0</td>\n",
       "      <td>0</td>\n",
       "      <td>0</td>\n",
       "      <td>...</td>\n",
       "      <td>0</td>\n",
       "      <td>0</td>\n",
       "      <td>0</td>\n",
       "      <td>0</td>\n",
       "      <td>0</td>\n",
       "      <td>0</td>\n",
       "      <td>0</td>\n",
       "      <td>0</td>\n",
       "      <td>1</td>\n",
       "      <td>0</td>\n",
       "    </tr>\n",
       "  </tbody>\n",
       "</table>\n",
       "<p>5 rows × 29 columns</p>\n",
       "</div>"
      ],
      "text/plain": [
       "   books_count  original_publication_year  ratings_count  work_ratings_count  \\\n",
       "0           34                       2005          37479               41690   \n",
       "1           19                       2007           9915               10108   \n",
       "2          123                       2001         185928              209465   \n",
       "3           11                       2013          29612               29949   \n",
       "4           30                       2009          21910               23402   \n",
       "\n",
       "   work_text_reviews_count  author_count avg_rating  language_code_0  \\\n",
       "0                      885             1          4                0   \n",
       "1                      252             2          4                0   \n",
       "2                     6523             3          4                0   \n",
       "3                     3104             1          4                0   \n",
       "4                     2076             1          3                0   \n",
       "\n",
       "   language_code_ara  language_code_en-CA  ...  tag_cleaned_favorites  \\\n",
       "0                  0                    0  ...                      0   \n",
       "1                  0                    0  ...                      0   \n",
       "2                  0                    0  ...                      0   \n",
       "3                  0                    0  ...                      0   \n",
       "4                  0                    0  ...                      0   \n",
       "\n",
       "   tag_cleaned_fiction  tag_cleaned_historical-fiction  tag_cleaned_mystery  \\\n",
       "0                    0                               0                    0   \n",
       "1                    0                               0                    0   \n",
       "2                    0                               0                    0   \n",
       "3                    0                               0                    0   \n",
       "4                    0                               0                    0   \n",
       "\n",
       "   tag_cleaned_non-fiction  tag_cleaned_other  tag_cleaned_romance  \\\n",
       "0                        0                  0                    0   \n",
       "1                        0                  0                    0   \n",
       "2                        0                  1                    0   \n",
       "3                        0                  0                    0   \n",
       "4                        0                  0                    0   \n",
       "\n",
       "   tag_cleaned_science-fiction  tag_cleaned_to-read  tag_cleaned_young-adult  \n",
       "0                            0                    1                        0  \n",
       "1                            0                    1                        0  \n",
       "2                            0                    0                        0  \n",
       "3                            0                    1                        0  \n",
       "4                            0                    1                        0  \n",
       "\n",
       "[5 rows x 29 columns]"
      ]
     },
     "execution_count": 65,
     "metadata": {},
     "output_type": "execute_result"
    }
   ],
   "source": [
    "# One-hot-encode the categorical features in the combined data\n",
    "df = pd.get_dummies(df, columns=np.setdiff1d(np.intersect1d(df.columns, df_cat['var']), [target]))\n",
    "\n",
    "# Print the first 5 rows of df\n",
    "df.head()"
   ]
  },
  {
   "cell_type": "code",
   "execution_count": 66,
   "metadata": {},
   "outputs": [
    {
     "data": {
      "text/html": [
       "<div>\n",
       "<style scoped>\n",
       "    .dataframe tbody tr th:only-of-type {\n",
       "        vertical-align: middle;\n",
       "    }\n",
       "\n",
       "    .dataframe tbody tr th {\n",
       "        vertical-align: top;\n",
       "    }\n",
       "\n",
       "    .dataframe thead th {\n",
       "        text-align: right;\n",
       "    }\n",
       "</style>\n",
       "<table border=\"1\" class=\"dataframe\">\n",
       "  <thead>\n",
       "    <tr style=\"text-align: right;\">\n",
       "      <th></th>\n",
       "      <th>books_count</th>\n",
       "      <th>original_publication_year</th>\n",
       "      <th>ratings_count</th>\n",
       "      <th>work_ratings_count</th>\n",
       "      <th>work_text_reviews_count</th>\n",
       "      <th>author_count</th>\n",
       "      <th>avg_rating</th>\n",
       "      <th>language_code_0</th>\n",
       "      <th>language_code_ara</th>\n",
       "      <th>language_code_en-CA</th>\n",
       "      <th>...</th>\n",
       "      <th>tag_cleaned_favorites</th>\n",
       "      <th>tag_cleaned_fiction</th>\n",
       "      <th>tag_cleaned_historical-fiction</th>\n",
       "      <th>tag_cleaned_mystery</th>\n",
       "      <th>tag_cleaned_non-fiction</th>\n",
       "      <th>tag_cleaned_other</th>\n",
       "      <th>tag_cleaned_romance</th>\n",
       "      <th>tag_cleaned_science-fiction</th>\n",
       "      <th>tag_cleaned_to-read</th>\n",
       "      <th>tag_cleaned_young-adult</th>\n",
       "    </tr>\n",
       "  </thead>\n",
       "  <tbody>\n",
       "    <tr>\n",
       "      <th>0</th>\n",
       "      <td>34</td>\n",
       "      <td>2005</td>\n",
       "      <td>37479</td>\n",
       "      <td>41690</td>\n",
       "      <td>885</td>\n",
       "      <td>1</td>\n",
       "      <td>1</td>\n",
       "      <td>0</td>\n",
       "      <td>0</td>\n",
       "      <td>0</td>\n",
       "      <td>...</td>\n",
       "      <td>0</td>\n",
       "      <td>0</td>\n",
       "      <td>0</td>\n",
       "      <td>0</td>\n",
       "      <td>0</td>\n",
       "      <td>0</td>\n",
       "      <td>0</td>\n",
       "      <td>0</td>\n",
       "      <td>1</td>\n",
       "      <td>0</td>\n",
       "    </tr>\n",
       "    <tr>\n",
       "      <th>1</th>\n",
       "      <td>19</td>\n",
       "      <td>2007</td>\n",
       "      <td>9915</td>\n",
       "      <td>10108</td>\n",
       "      <td>252</td>\n",
       "      <td>2</td>\n",
       "      <td>1</td>\n",
       "      <td>0</td>\n",
       "      <td>0</td>\n",
       "      <td>0</td>\n",
       "      <td>...</td>\n",
       "      <td>0</td>\n",
       "      <td>0</td>\n",
       "      <td>0</td>\n",
       "      <td>0</td>\n",
       "      <td>0</td>\n",
       "      <td>0</td>\n",
       "      <td>0</td>\n",
       "      <td>0</td>\n",
       "      <td>1</td>\n",
       "      <td>0</td>\n",
       "    </tr>\n",
       "    <tr>\n",
       "      <th>2</th>\n",
       "      <td>123</td>\n",
       "      <td>2001</td>\n",
       "      <td>185928</td>\n",
       "      <td>209465</td>\n",
       "      <td>6523</td>\n",
       "      <td>3</td>\n",
       "      <td>1</td>\n",
       "      <td>0</td>\n",
       "      <td>0</td>\n",
       "      <td>0</td>\n",
       "      <td>...</td>\n",
       "      <td>0</td>\n",
       "      <td>0</td>\n",
       "      <td>0</td>\n",
       "      <td>0</td>\n",
       "      <td>0</td>\n",
       "      <td>1</td>\n",
       "      <td>0</td>\n",
       "      <td>0</td>\n",
       "      <td>0</td>\n",
       "      <td>0</td>\n",
       "    </tr>\n",
       "    <tr>\n",
       "      <th>3</th>\n",
       "      <td>11</td>\n",
       "      <td>2013</td>\n",
       "      <td>29612</td>\n",
       "      <td>29949</td>\n",
       "      <td>3104</td>\n",
       "      <td>1</td>\n",
       "      <td>1</td>\n",
       "      <td>0</td>\n",
       "      <td>0</td>\n",
       "      <td>0</td>\n",
       "      <td>...</td>\n",
       "      <td>0</td>\n",
       "      <td>0</td>\n",
       "      <td>0</td>\n",
       "      <td>0</td>\n",
       "      <td>0</td>\n",
       "      <td>0</td>\n",
       "      <td>0</td>\n",
       "      <td>0</td>\n",
       "      <td>1</td>\n",
       "      <td>0</td>\n",
       "    </tr>\n",
       "    <tr>\n",
       "      <th>4</th>\n",
       "      <td>30</td>\n",
       "      <td>2009</td>\n",
       "      <td>21910</td>\n",
       "      <td>23402</td>\n",
       "      <td>2076</td>\n",
       "      <td>1</td>\n",
       "      <td>0</td>\n",
       "      <td>0</td>\n",
       "      <td>0</td>\n",
       "      <td>0</td>\n",
       "      <td>...</td>\n",
       "      <td>0</td>\n",
       "      <td>0</td>\n",
       "      <td>0</td>\n",
       "      <td>0</td>\n",
       "      <td>0</td>\n",
       "      <td>0</td>\n",
       "      <td>0</td>\n",
       "      <td>0</td>\n",
       "      <td>1</td>\n",
       "      <td>0</td>\n",
       "    </tr>\n",
       "  </tbody>\n",
       "</table>\n",
       "<p>5 rows × 29 columns</p>\n",
       "</div>"
      ],
      "text/plain": [
       "   books_count  original_publication_year  ratings_count  work_ratings_count  \\\n",
       "0           34                       2005          37479               41690   \n",
       "1           19                       2007           9915               10108   \n",
       "2          123                       2001         185928              209465   \n",
       "3           11                       2013          29612               29949   \n",
       "4           30                       2009          21910               23402   \n",
       "\n",
       "   work_text_reviews_count  author_count  avg_rating  language_code_0  \\\n",
       "0                      885             1           1                0   \n",
       "1                      252             2           1                0   \n",
       "2                     6523             3           1                0   \n",
       "3                     3104             1           1                0   \n",
       "4                     2076             1           0                0   \n",
       "\n",
       "   language_code_ara  language_code_en-CA  ...  tag_cleaned_favorites  \\\n",
       "0                  0                    0  ...                      0   \n",
       "1                  0                    0  ...                      0   \n",
       "2                  0                    0  ...                      0   \n",
       "3                  0                    0  ...                      0   \n",
       "4                  0                    0  ...                      0   \n",
       "\n",
       "   tag_cleaned_fiction  tag_cleaned_historical-fiction  tag_cleaned_mystery  \\\n",
       "0                    0                               0                    0   \n",
       "1                    0                               0                    0   \n",
       "2                    0                               0                    0   \n",
       "3                    0                               0                    0   \n",
       "4                    0                               0                    0   \n",
       "\n",
       "   tag_cleaned_non-fiction  tag_cleaned_other  tag_cleaned_romance  \\\n",
       "0                        0                  0                    0   \n",
       "1                        0                  0                    0   \n",
       "2                        0                  1                    0   \n",
       "3                        0                  0                    0   \n",
       "4                        0                  0                    0   \n",
       "\n",
       "   tag_cleaned_science-fiction  tag_cleaned_to-read  tag_cleaned_young-adult  \n",
       "0                            0                    1                        0  \n",
       "1                            0                    1                        0  \n",
       "2                            0                    0                        0  \n",
       "3                            0                    1                        0  \n",
       "4                            0                    1                        0  \n",
       "\n",
       "[5 rows x 29 columns]"
      ]
     },
     "execution_count": 66,
     "metadata": {},
     "output_type": "execute_result"
    }
   ],
   "source": [
    "from sklearn.preprocessing import LabelEncoder\n",
    "\n",
    "# The LabelEncoder\n",
    "le = LabelEncoder()\n",
    "\n",
    "# Encode the categorical target in the combined data\n",
    "df[target] = le.fit_transform(df[target].astype(str))\n",
    "\n",
    "# Print the first 5 rows of df\n",
    "df.head()"
   ]
  },
  {
   "cell_type": "code",
   "execution_count": 67,
   "metadata": {},
   "outputs": [
    {
     "data": {
      "text/html": [
       "<div>\n",
       "<style scoped>\n",
       "    .dataframe tbody tr th:only-of-type {\n",
       "        vertical-align: middle;\n",
       "    }\n",
       "\n",
       "    .dataframe tbody tr th {\n",
       "        vertical-align: top;\n",
       "    }\n",
       "\n",
       "    .dataframe thead th {\n",
       "        text-align: right;\n",
       "    }\n",
       "</style>\n",
       "<table border=\"1\" class=\"dataframe\">\n",
       "  <thead>\n",
       "    <tr style=\"text-align: right;\">\n",
       "      <th></th>\n",
       "      <th>books_count</th>\n",
       "      <th>original_publication_year</th>\n",
       "      <th>ratings_count</th>\n",
       "      <th>work_ratings_count</th>\n",
       "      <th>work_text_reviews_count</th>\n",
       "      <th>author_count</th>\n",
       "      <th>avg_rating</th>\n",
       "      <th>language_code_0</th>\n",
       "      <th>language_code_ara</th>\n",
       "      <th>language_code_en-CA</th>\n",
       "      <th>...</th>\n",
       "      <th>tag_cleaned_favorites</th>\n",
       "      <th>tag_cleaned_fiction</th>\n",
       "      <th>tag_cleaned_historical-fiction</th>\n",
       "      <th>tag_cleaned_mystery</th>\n",
       "      <th>tag_cleaned_non-fiction</th>\n",
       "      <th>tag_cleaned_other</th>\n",
       "      <th>tag_cleaned_romance</th>\n",
       "      <th>tag_cleaned_science-fiction</th>\n",
       "      <th>tag_cleaned_to-read</th>\n",
       "      <th>tag_cleaned_young-adult</th>\n",
       "    </tr>\n",
       "  </thead>\n",
       "  <tbody>\n",
       "    <tr>\n",
       "      <th>0</th>\n",
       "      <td>34</td>\n",
       "      <td>2005</td>\n",
       "      <td>37479</td>\n",
       "      <td>41690</td>\n",
       "      <td>885</td>\n",
       "      <td>1</td>\n",
       "      <td>1</td>\n",
       "      <td>0</td>\n",
       "      <td>0</td>\n",
       "      <td>0</td>\n",
       "      <td>...</td>\n",
       "      <td>0</td>\n",
       "      <td>0</td>\n",
       "      <td>0</td>\n",
       "      <td>0</td>\n",
       "      <td>0</td>\n",
       "      <td>0</td>\n",
       "      <td>0</td>\n",
       "      <td>0</td>\n",
       "      <td>1</td>\n",
       "      <td>0</td>\n",
       "    </tr>\n",
       "    <tr>\n",
       "      <th>1</th>\n",
       "      <td>19</td>\n",
       "      <td>2007</td>\n",
       "      <td>9915</td>\n",
       "      <td>10108</td>\n",
       "      <td>252</td>\n",
       "      <td>2</td>\n",
       "      <td>1</td>\n",
       "      <td>0</td>\n",
       "      <td>0</td>\n",
       "      <td>0</td>\n",
       "      <td>...</td>\n",
       "      <td>0</td>\n",
       "      <td>0</td>\n",
       "      <td>0</td>\n",
       "      <td>0</td>\n",
       "      <td>0</td>\n",
       "      <td>0</td>\n",
       "      <td>0</td>\n",
       "      <td>0</td>\n",
       "      <td>1</td>\n",
       "      <td>0</td>\n",
       "    </tr>\n",
       "    <tr>\n",
       "      <th>2</th>\n",
       "      <td>123</td>\n",
       "      <td>2001</td>\n",
       "      <td>185928</td>\n",
       "      <td>209465</td>\n",
       "      <td>6523</td>\n",
       "      <td>3</td>\n",
       "      <td>1</td>\n",
       "      <td>0</td>\n",
       "      <td>0</td>\n",
       "      <td>0</td>\n",
       "      <td>...</td>\n",
       "      <td>0</td>\n",
       "      <td>0</td>\n",
       "      <td>0</td>\n",
       "      <td>0</td>\n",
       "      <td>0</td>\n",
       "      <td>1</td>\n",
       "      <td>0</td>\n",
       "      <td>0</td>\n",
       "      <td>0</td>\n",
       "      <td>0</td>\n",
       "    </tr>\n",
       "    <tr>\n",
       "      <th>3</th>\n",
       "      <td>11</td>\n",
       "      <td>2013</td>\n",
       "      <td>29612</td>\n",
       "      <td>29949</td>\n",
       "      <td>3104</td>\n",
       "      <td>1</td>\n",
       "      <td>1</td>\n",
       "      <td>0</td>\n",
       "      <td>0</td>\n",
       "      <td>0</td>\n",
       "      <td>...</td>\n",
       "      <td>0</td>\n",
       "      <td>0</td>\n",
       "      <td>0</td>\n",
       "      <td>0</td>\n",
       "      <td>0</td>\n",
       "      <td>0</td>\n",
       "      <td>0</td>\n",
       "      <td>0</td>\n",
       "      <td>1</td>\n",
       "      <td>0</td>\n",
       "    </tr>\n",
       "    <tr>\n",
       "      <th>4</th>\n",
       "      <td>30</td>\n",
       "      <td>2009</td>\n",
       "      <td>21910</td>\n",
       "      <td>23402</td>\n",
       "      <td>2076</td>\n",
       "      <td>1</td>\n",
       "      <td>0</td>\n",
       "      <td>0</td>\n",
       "      <td>0</td>\n",
       "      <td>0</td>\n",
       "      <td>...</td>\n",
       "      <td>0</td>\n",
       "      <td>0</td>\n",
       "      <td>0</td>\n",
       "      <td>0</td>\n",
       "      <td>0</td>\n",
       "      <td>0</td>\n",
       "      <td>0</td>\n",
       "      <td>0</td>\n",
       "      <td>1</td>\n",
       "      <td>0</td>\n",
       "    </tr>\n",
       "  </tbody>\n",
       "</table>\n",
       "<p>5 rows × 29 columns</p>\n",
       "</div>"
      ],
      "text/plain": [
       "   books_count  original_publication_year  ratings_count  work_ratings_count  \\\n",
       "0           34                       2005          37479               41690   \n",
       "1           19                       2007           9915               10108   \n",
       "2          123                       2001         185928              209465   \n",
       "3           11                       2013          29612               29949   \n",
       "4           30                       2009          21910               23402   \n",
       "\n",
       "   work_text_reviews_count  author_count  avg_rating  language_code_0  \\\n",
       "0                      885             1           1                0   \n",
       "1                      252             2           1                0   \n",
       "2                     6523             3           1                0   \n",
       "3                     3104             1           1                0   \n",
       "4                     2076             1           0                0   \n",
       "\n",
       "   language_code_ara  language_code_en-CA  ...  tag_cleaned_favorites  \\\n",
       "0                  0                    0  ...                      0   \n",
       "1                  0                    0  ...                      0   \n",
       "2                  0                    0  ...                      0   \n",
       "3                  0                    0  ...                      0   \n",
       "4                  0                    0  ...                      0   \n",
       "\n",
       "   tag_cleaned_fiction  tag_cleaned_historical-fiction  tag_cleaned_mystery  \\\n",
       "0                    0                               0                    0   \n",
       "1                    0                               0                    0   \n",
       "2                    0                               0                    0   \n",
       "3                    0                               0                    0   \n",
       "4                    0                               0                    0   \n",
       "\n",
       "   tag_cleaned_non-fiction  tag_cleaned_other  tag_cleaned_romance  \\\n",
       "0                        0                  0                    0   \n",
       "1                        0                  0                    0   \n",
       "2                        0                  1                    0   \n",
       "3                        0                  0                    0   \n",
       "4                        0                  0                    0   \n",
       "\n",
       "   tag_cleaned_science-fiction  tag_cleaned_to-read  tag_cleaned_young-adult  \n",
       "0                            0                    1                        0  \n",
       "1                            0                    1                        0  \n",
       "2                            0                    0                        0  \n",
       "3                            0                    1                        0  \n",
       "4                            0                    1                        0  \n",
       "\n",
       "[5 rows x 29 columns]"
      ]
     },
     "execution_count": 67,
     "metadata": {},
     "output_type": "execute_result"
    }
   ],
   "source": [
    "df.head()"
   ]
  },
  {
   "cell_type": "markdown",
   "metadata": {},
   "source": [
    "### Separating the training, validation and testing data\n",
    "The code below shows how to separate the training, validation and testing data."
   ]
  },
  {
   "cell_type": "code",
   "execution_count": 68,
   "metadata": {},
   "outputs": [],
   "source": [
    "# Separating the training data\n",
    "df_train = df.iloc[:df_train.shape[0], :].copy(deep=True)\n",
    "\n",
    "# Separating the validation data\n",
    "df_valid = df.iloc[df_train.shape[0]:df_train.shape[0] + df_valid.shape[0], :].copy(deep=True)\n",
    "\n",
    "# Separating the testing data\n",
    "df_test = df.iloc[df_train.shape[0] + df_valid.shape[0]:, :].copy(deep=True)"
   ]
  },
  {
   "cell_type": "code",
   "execution_count": 69,
   "metadata": {},
   "outputs": [
    {
     "data": {
      "text/html": [
       "<div>\n",
       "<style scoped>\n",
       "    .dataframe tbody tr th:only-of-type {\n",
       "        vertical-align: middle;\n",
       "    }\n",
       "\n",
       "    .dataframe tbody tr th {\n",
       "        vertical-align: top;\n",
       "    }\n",
       "\n",
       "    .dataframe thead th {\n",
       "        text-align: right;\n",
       "    }\n",
       "</style>\n",
       "<table border=\"1\" class=\"dataframe\">\n",
       "  <thead>\n",
       "    <tr style=\"text-align: right;\">\n",
       "      <th></th>\n",
       "      <th># rows</th>\n",
       "      <th># columns</th>\n",
       "    </tr>\n",
       "  </thead>\n",
       "  <tbody>\n",
       "    <tr>\n",
       "      <th>0</th>\n",
       "      <td>6399</td>\n",
       "      <td>29</td>\n",
       "    </tr>\n",
       "  </tbody>\n",
       "</table>\n",
       "</div>"
      ],
      "text/plain": [
       "   # rows  # columns\n",
       "0    6399         29"
      ]
     },
     "execution_count": 69,
     "metadata": {},
     "output_type": "execute_result"
    }
   ],
   "source": [
    "# Print the dimension of df_remove_train\n",
    "pd.DataFrame([[df_train.shape[0], df_train.shape[1]]], columns=['# rows', '# columns'])"
   ]
  },
  {
   "cell_type": "code",
   "execution_count": 70,
   "metadata": {},
   "outputs": [
    {
     "data": {
      "text/html": [
       "<div>\n",
       "<style scoped>\n",
       "    .dataframe tbody tr th:only-of-type {\n",
       "        vertical-align: middle;\n",
       "    }\n",
       "\n",
       "    .dataframe tbody tr th {\n",
       "        vertical-align: top;\n",
       "    }\n",
       "\n",
       "    .dataframe thead th {\n",
       "        text-align: right;\n",
       "    }\n",
       "</style>\n",
       "<table border=\"1\" class=\"dataframe\">\n",
       "  <thead>\n",
       "    <tr style=\"text-align: right;\">\n",
       "      <th></th>\n",
       "      <th># rows</th>\n",
       "      <th># columns</th>\n",
       "    </tr>\n",
       "  </thead>\n",
       "  <tbody>\n",
       "    <tr>\n",
       "      <th>0</th>\n",
       "      <td>1600</td>\n",
       "      <td>29</td>\n",
       "    </tr>\n",
       "  </tbody>\n",
       "</table>\n",
       "</div>"
      ],
      "text/plain": [
       "   # rows  # columns\n",
       "0    1600         29"
      ]
     },
     "execution_count": 70,
     "metadata": {},
     "output_type": "execute_result"
    }
   ],
   "source": [
    "# Print the dimension of df_remove_valid\n",
    "pd.DataFrame([[df_valid.shape[0], df_valid.shape[1]]], columns=['# rows', '# columns'])"
   ]
  },
  {
   "cell_type": "code",
   "execution_count": 71,
   "metadata": {},
   "outputs": [
    {
     "data": {
      "text/html": [
       "<div>\n",
       "<style scoped>\n",
       "    .dataframe tbody tr th:only-of-type {\n",
       "        vertical-align: middle;\n",
       "    }\n",
       "\n",
       "    .dataframe tbody tr th {\n",
       "        vertical-align: top;\n",
       "    }\n",
       "\n",
       "    .dataframe thead th {\n",
       "        text-align: right;\n",
       "    }\n",
       "</style>\n",
       "<table border=\"1\" class=\"dataframe\">\n",
       "  <thead>\n",
       "    <tr style=\"text-align: right;\">\n",
       "      <th></th>\n",
       "      <th># rows</th>\n",
       "      <th># columns</th>\n",
       "    </tr>\n",
       "  </thead>\n",
       "  <tbody>\n",
       "    <tr>\n",
       "      <th>0</th>\n",
       "      <td>2000</td>\n",
       "      <td>29</td>\n",
       "    </tr>\n",
       "  </tbody>\n",
       "</table>\n",
       "</div>"
      ],
      "text/plain": [
       "   # rows  # columns\n",
       "0    2000         29"
      ]
     },
     "execution_count": 71,
     "metadata": {},
     "output_type": "execute_result"
    }
   ],
   "source": [
    "# Print the dimension of df_remove_test\n",
    "pd.DataFrame([[df_test.shape[0], df_test.shape[1]]], columns=['# rows', '# columns'])"
   ]
  },
  {
   "cell_type": "markdown",
   "metadata": {},
   "source": [
    "### Getting the name of the features"
   ]
  },
  {
   "cell_type": "code",
   "execution_count": 72,
   "metadata": {},
   "outputs": [],
   "source": [
    "features = np.setdiff1d(df.columns, [target])"
   ]
  },
  {
   "cell_type": "markdown",
   "metadata": {},
   "source": [
    "### Getting the feature matrix and target vector\n"
   ]
  },
  {
   "cell_type": "code",
   "execution_count": 73,
   "metadata": {},
   "outputs": [],
   "source": [
    "# Get the feature matrix\n",
    "X_train = df_train[features].to_numpy()\n",
    "X_valid = df_valid[features].to_numpy()\n",
    "X_test = df_test[features].to_numpy()\n",
    "\n",
    "# Get the target vector\n",
    "y_train = df_train[target].astype(int).to_numpy()\n",
    "y_valid = df_valid[target].astype(int).to_numpy()"
   ]
  },
  {
   "cell_type": "markdown",
   "metadata": {},
   "source": [
    "### Scaling the data\n",
    "The code below shows how to standardize the data (using sklearn StandardScaler)."
   ]
  },
  {
   "cell_type": "code",
   "execution_count": 74,
   "metadata": {},
   "outputs": [],
   "source": [
    "from sklearn.preprocessing import StandardScaler\n",
    "\n",
    "# The StandardScaler\n",
    "ss = StandardScaler()\n",
    "\n",
    "# Standardize the training data\n",
    "X_train = ss.fit_transform(X_train)\n",
    "\n",
    "# Standardize the validation data\n",
    "X_valid = ss.transform(X_valid)\n",
    "\n",
    "# Standardize the testing data\n",
    "X_test = ss.transform(X_test)"
   ]
  },
  {
   "cell_type": "markdown",
   "metadata": {},
   "source": [
    "## Hyperparameter Tuning and Model Selection"
   ]
  },
  {
   "cell_type": "markdown",
   "metadata": {},
   "source": [
    "### Creating the dictionary of the models\n",
    "In the dictionary:\n",
    "the key is the acronym of the model\n",
    "the value is the model"
   ]
  },
  {
   "cell_type": "code",
   "execution_count": 75,
   "metadata": {},
   "outputs": [],
   "source": [
    "from sklearn.linear_model import LogisticRegression\n",
    "from sklearn.tree import DecisionTreeClassifier\n",
    "from sklearn.ensemble import RandomForestClassifier\n",
    "from xgboost.sklearn import XGBClassifier\n",
    "from sklearn.neural_network import MLPClassifier\n",
    "\n",
    "models = {'lr': LogisticRegression(class_weight='balanced', random_state=42),\n",
    "          'dtc': DecisionTreeClassifier(class_weight='balanced', random_state=42),\n",
    "          'rfc': RandomForestClassifier(class_weight='balanced', random_state=42),\n",
    "          'xgbc': XGBClassifier(seed=42),\n",
    "          'mlpc': MLPClassifier(early_stopping=True, random_state=42)}"
   ]
  },
  {
   "cell_type": "markdown",
   "metadata": {},
   "source": [
    "### Creating the dictionary of the pipelines\n",
    "In the dictionary:\n",
    "\n",
    "the key is the acronym of the model\n",
    "the value is the pipeline, which, for now, only includes the model"
   ]
  },
  {
   "cell_type": "code",
   "execution_count": 76,
   "metadata": {},
   "outputs": [],
   "source": [
    "from sklearn.pipeline import Pipeline\n",
    "\n",
    "pipes = {}\n",
    "\n",
    "for acronym, model in models.items():\n",
    "    pipes[acronym] = Pipeline([('model', model)])"
   ]
  },
  {
   "cell_type": "markdown",
   "metadata": {},
   "source": [
    "## Hyperparameter tuning and model selection using Sklearn (0.22 or above)¶"
   ]
  },
  {
   "cell_type": "markdown",
   "metadata": {},
   "source": [
    "### Getting the predefined split cross-validator"
   ]
  },
  {
   "cell_type": "code",
   "execution_count": 77,
   "metadata": {},
   "outputs": [],
   "source": [
    "from sklearn.model_selection import PredefinedSplit\n",
    "\n",
    "# Combine the feature matrix in the training and validation data\n",
    "X_train_valid = np.vstack((X_train, X_valid))\n",
    "\n",
    "# Combine the target vector in the training and validation data\n",
    "y_train_valid = np.append(y_train, y_valid)\n",
    "\n",
    "# Get the indices of training and validation data\n",
    "train_valid_idxs = np.append(np.full(X_train.shape[0], -1), np.full(X_valid.shape[0], 0))\n",
    "\n",
    "# The PredefinedSplit\n",
    "ps = PredefinedSplit(train_valid_idxs)"
   ]
  },
  {
   "cell_type": "markdown",
   "metadata": {},
   "source": [
    "## Creating the dictionary of the parameter grids"
   ]
  },
  {
   "cell_type": "code",
   "execution_count": 78,
   "metadata": {},
   "outputs": [],
   "source": [
    "param_grids = {}"
   ]
  },
  {
   "cell_type": "markdown",
   "metadata": {},
   "source": [
    "The parameter grid for logistic regression\n",
    "The hyperparameters we want to fine-tune are:\n",
    "\n",
    "C\n",
    "tol"
   ]
  },
  {
   "cell_type": "code",
   "execution_count": 79,
   "metadata": {},
   "outputs": [],
   "source": [
    "# The grids for C\n",
    "C_grids = [10 ** i for i in range(-2, 3)]\n",
    "\n",
    "# The grids for tol\n",
    "tol_grids = [10 ** i for i in range(-6, -1)]\n",
    "\n",
    "# Update param_grids\n",
    "param_grids['lr'] = [{'model__C': C_grids,\n",
    "                      'model__tol': tol_grids}]"
   ]
  },
  {
   "cell_type": "markdown",
   "metadata": {},
   "source": [
    "The parameter grid for decision tree\n",
    "The hyperparameters we want to fine-tune are:\n",
    "\n",
    "min_samples_split\n",
    "min_samples_leaf\n",
    "max_depth"
   ]
  },
  {
   "cell_type": "code",
   "execution_count": 80,
   "metadata": {},
   "outputs": [],
   "source": [
    "# The grids for min_samples_split\n",
    "min_samples_split_grids = [2, 30, 100]\n",
    "\n",
    "# The grids for min_samples_leaf\n",
    "min_samples_leaf_grids = [1, 30, 100]\n",
    "\n",
    "# The grids for max_depth\n",
    "max_depth_grids = range(1, 11)\n",
    "\n",
    "# Update param_grids\n",
    "param_grids['dtc'] = [{'model__min_samples_split': min_samples_split_grids,\n",
    "                       'model__min_samples_leaf': min_samples_leaf_grids,\n",
    "                       'model__max_depth': max_depth_grids}]"
   ]
  },
  {
   "cell_type": "markdown",
   "metadata": {},
   "source": [
    "The parameter grid for random forest\n",
    "The hyperparameters we want to fine-tune are:\n",
    "\n",
    "min_samples_split\n",
    "min_samples_leaf"
   ]
  },
  {
   "cell_type": "code",
   "execution_count": 81,
   "metadata": {},
   "outputs": [],
   "source": [
    "# The grids for min_samples_split\n",
    "min_samples_split_grids = [2, 20, 100]\n",
    "\n",
    "# The grids for min_samples_leaf\n",
    "min_samples_leaf_grids = [1, 20, 100]\n",
    "\n",
    "# Update param_grids\n",
    "param_grids['rfc'] = [{'model__min_samples_split': min_samples_split_grids,\n",
    "                       'model__min_samples_leaf': min_samples_leaf_grids}]"
   ]
  },
  {
   "cell_type": "markdown",
   "metadata": {},
   "source": [
    "The parameter grid for xgboost\n",
    "The hyperparameters we want to fine-tune are:\n",
    "\n",
    "eta\n",
    "gamma\n",
    "lambda\n"
   ]
  },
  {
   "cell_type": "code",
   "execution_count": 82,
   "metadata": {},
   "outputs": [],
   "source": [
    "# The grids for eta\n",
    "eta_grids = [10 ** i for i in range(-4, 1)]\n",
    "\n",
    "# The grids for gamma\n",
    "gamma_grids = [0, 10, 100]\n",
    "\n",
    "# The grids for lambda\n",
    "lambda_grids = [10 ** i for i in range(-4, 5)]\n",
    "\n",
    "# Update param_grids\n",
    "param_grids['xgbc'] = [{'model__eta': eta_grids,\n",
    "                        'model__gamma': gamma_grids,\n",
    "                        'model__lambda': lambda_grids}]"
   ]
  },
  {
   "cell_type": "markdown",
   "metadata": {},
   "source": [
    "The parameter grid for multi-layer perceptron classifier\n",
    "The hyperparameters we want to fine-tune are:\n",
    "\n",
    "alpha\n",
    "learning_rate_init"
   ]
  },
  {
   "cell_type": "code",
   "execution_count": 83,
   "metadata": {},
   "outputs": [],
   "source": [
    "# The grids for alpha\n",
    "alpha_grids = [10 ** i for i in range(-6, -1)]\n",
    "\n",
    "# The grids for learning_rate_init\n",
    "learning_rate_init_grids = [10 ** i for i in range(-5, 0)]\n",
    "\n",
    "# Update param_grids\n",
    "param_grids['mlpc'] = [{'model__alpha': alpha_grids,\n",
    "                        'model__learning_rate_init': learning_rate_init_grids}]"
   ]
  },
  {
   "cell_type": "markdown",
   "metadata": {},
   "source": [
    "Creating the directory for the cv results."
   ]
  },
  {
   "cell_type": "code",
   "execution_count": 84,
   "metadata": {},
   "outputs": [],
   "source": [
    "import os\n",
    "\n",
    "# Make directory\n",
    "directory = os.path.dirname('cv_results/')\n",
    "if not os.path.exists(directory):\n",
    "    os.makedirs(directory)"
   ]
  },
  {
   "cell_type": "markdown",
   "metadata": {},
   "source": [
    "Hyperparameter Tuning"
   ]
  },
  {
   "cell_type": "code",
   "execution_count": 85,
   "metadata": {},
   "outputs": [],
   "source": [
    "from sklearn.model_selection import GridSearchCV\n",
    "\n",
    "# The list of [best_score_, best_params_, best_estimator_] obtained by GridSearchCV\n",
    "best_score_param_estimator_gs = []\n",
    "\n",
    "for acronym in pipes.keys():\n",
    "    # GridSearchCV\n",
    "    gs = GridSearchCV(estimator=pipes[acronym],\n",
    "                      param_grid=param_grids[acronym],\n",
    "                      scoring='f1_micro',\n",
    "                      n_jobs=-1,\n",
    "                      cv=ps,\n",
    "                      return_train_score=True)\n",
    "        \n",
    "    # Fit the pipeline\n",
    "    gs = gs.fit(X_train_valid, y_train_valid)\n",
    "    \n",
    "    # Update best_score_param_estimator_gs\n",
    "    best_score_param_estimator_gs.append([gs.best_score_, gs.best_params_, gs.best_estimator_])\n",
    "    \n",
    "    # Sort cv_results in ascending order of 'rank_test_score' and 'std_test_score'\n",
    "    cv_results = pd.DataFrame.from_dict(gs.cv_results_).sort_values(by=['rank_test_score', 'std_test_score'])\n",
    "    \n",
    "    # Get the important columns in cv_results\n",
    "    important_columns = ['rank_test_score',\n",
    "                         'mean_test_score', \n",
    "                         'std_test_score', \n",
    "                         'mean_train_score', \n",
    "                         'std_train_score',\n",
    "                         'mean_fit_time', \n",
    "                         'std_fit_time',                        \n",
    "                         'mean_score_time', \n",
    "                         'std_score_time']\n",
    "    \n",
    "    # Move the important columns ahead\n",
    "    cv_results = cv_results[important_columns + sorted(list(set(cv_results.columns) - set(important_columns)))]\n",
    "\n",
    "    # Write cv_results file\n",
    "    cv_results.to_csv(path_or_buf='cv_results/' + acronym + '.csv', index=False)"
   ]
  },
  {
   "cell_type": "markdown",
   "metadata": {},
   "source": [
    "## Model Selection"
   ]
  },
  {
   "cell_type": "code",
   "execution_count": 86,
   "metadata": {},
   "outputs": [
    {
     "data": {
      "text/html": [
       "<div>\n",
       "<style scoped>\n",
       "    .dataframe tbody tr th:only-of-type {\n",
       "        vertical-align: middle;\n",
       "    }\n",
       "\n",
       "    .dataframe tbody tr th {\n",
       "        vertical-align: top;\n",
       "    }\n",
       "\n",
       "    .dataframe thead th {\n",
       "        text-align: right;\n",
       "    }\n",
       "</style>\n",
       "<table border=\"1\" class=\"dataframe\">\n",
       "  <thead>\n",
       "    <tr style=\"text-align: right;\">\n",
       "      <th></th>\n",
       "      <th>best_score</th>\n",
       "      <th>best_param</th>\n",
       "      <th>best_estimator</th>\n",
       "    </tr>\n",
       "  </thead>\n",
       "  <tbody>\n",
       "    <tr>\n",
       "      <th>0</th>\n",
       "      <td>0.952500</td>\n",
       "      <td>{'model__min_samples_leaf': 1, 'model__min_sam...</td>\n",
       "      <td>((DecisionTreeClassifier(ccp_alpha=0.0, class_...</td>\n",
       "    </tr>\n",
       "    <tr>\n",
       "      <th>1</th>\n",
       "      <td>0.952500</td>\n",
       "      <td>{'model__eta': 0.1, 'model__gamma': 0, 'model_...</td>\n",
       "      <td>(XGBClassifier(base_score=0.5, booster=None, c...</td>\n",
       "    </tr>\n",
       "    <tr>\n",
       "      <th>2</th>\n",
       "      <td>0.951875</td>\n",
       "      <td>{'model__alpha': 1e-06, 'model__learning_rate_...</td>\n",
       "      <td>(MLPClassifier(activation='relu', alpha=1e-06,...</td>\n",
       "    </tr>\n",
       "    <tr>\n",
       "      <th>3</th>\n",
       "      <td>0.682500</td>\n",
       "      <td>{'model__max_depth': 10, 'model__min_samples_l...</td>\n",
       "      <td>(DecisionTreeClassifier(ccp_alpha=0.0, class_w...</td>\n",
       "    </tr>\n",
       "    <tr>\n",
       "      <th>4</th>\n",
       "      <td>0.511250</td>\n",
       "      <td>{'model__C': 100, 'model__tol': 1e-06}</td>\n",
       "      <td>(LogisticRegression(C=100, class_weight='balan...</td>\n",
       "    </tr>\n",
       "  </tbody>\n",
       "</table>\n",
       "</div>"
      ],
      "text/plain": [
       "   best_score                                         best_param  \\\n",
       "0    0.952500  {'model__min_samples_leaf': 1, 'model__min_sam...   \n",
       "1    0.952500  {'model__eta': 0.1, 'model__gamma': 0, 'model_...   \n",
       "2    0.951875  {'model__alpha': 1e-06, 'model__learning_rate_...   \n",
       "3    0.682500  {'model__max_depth': 10, 'model__min_samples_l...   \n",
       "4    0.511250             {'model__C': 100, 'model__tol': 1e-06}   \n",
       "\n",
       "                                      best_estimator  \n",
       "0  ((DecisionTreeClassifier(ccp_alpha=0.0, class_...  \n",
       "1  (XGBClassifier(base_score=0.5, booster=None, c...  \n",
       "2  (MLPClassifier(activation='relu', alpha=1e-06,...  \n",
       "3  (DecisionTreeClassifier(ccp_alpha=0.0, class_w...  \n",
       "4  (LogisticRegression(C=100, class_weight='balan...  "
      ]
     },
     "execution_count": 86,
     "metadata": {},
     "output_type": "execute_result"
    }
   ],
   "source": [
    "# Sort best_score_param_estimator_gs in descending order of the best_score_\n",
    "best_score_param_estimator_gs = sorted(best_score_param_estimator_gs, key=lambda x : x[0], reverse=True)\n",
    "\n",
    "# Print best_score_param_estimator_gs\n",
    "pd.DataFrame(best_score_param_estimator_gs, columns=['best_score', 'best_param', 'best_estimator'])"
   ]
  },
  {
   "cell_type": "markdown",
   "metadata": {},
   "source": [
    "## Plot the Feature Importance"
   ]
  },
  {
   "cell_type": "code",
   "execution_count": 87,
   "metadata": {},
   "outputs": [],
   "source": [
    "import os\n",
    "\n",
    "# Make directory\n",
    "directory = os.path.dirname('figure/')\n",
    "if not os.path.exists(directory):\n",
    "    os.makedirs(directory)"
   ]
  },
  {
   "cell_type": "code",
   "execution_count": 88,
   "metadata": {},
   "outputs": [
    {
     "data": {
      "text/html": [
       "<div>\n",
       "<style scoped>\n",
       "    .dataframe tbody tr th:only-of-type {\n",
       "        vertical-align: middle;\n",
       "    }\n",
       "\n",
       "    .dataframe tbody tr th {\n",
       "        vertical-align: top;\n",
       "    }\n",
       "\n",
       "    .dataframe thead th {\n",
       "        text-align: right;\n",
       "    }\n",
       "</style>\n",
       "<table border=\"1\" class=\"dataframe\">\n",
       "  <thead>\n",
       "    <tr style=\"text-align: right;\">\n",
       "      <th></th>\n",
       "      <th>Features</th>\n",
       "      <th>Importance</th>\n",
       "    </tr>\n",
       "  </thead>\n",
       "  <tbody>\n",
       "    <tr>\n",
       "      <th>0</th>\n",
       "      <td>work_text_reviews_count</td>\n",
       "      <td>0.220777</td>\n",
       "    </tr>\n",
       "    <tr>\n",
       "      <th>1</th>\n",
       "      <td>books_count</td>\n",
       "      <td>0.192298</td>\n",
       "    </tr>\n",
       "    <tr>\n",
       "      <th>2</th>\n",
       "      <td>work_ratings_count</td>\n",
       "      <td>0.160301</td>\n",
       "    </tr>\n",
       "    <tr>\n",
       "      <th>3</th>\n",
       "      <td>ratings_count</td>\n",
       "      <td>0.15064</td>\n",
       "    </tr>\n",
       "    <tr>\n",
       "      <th>4</th>\n",
       "      <td>original_publication_year</td>\n",
       "      <td>0.140004</td>\n",
       "    </tr>\n",
       "  </tbody>\n",
       "</table>\n",
       "</div>"
      ],
      "text/plain": [
       "                    Features Importance\n",
       "0    work_text_reviews_count   0.220777\n",
       "1                books_count   0.192298\n",
       "2         work_ratings_count   0.160301\n",
       "3              ratings_count    0.15064\n",
       "4  original_publication_year   0.140004"
      ]
     },
     "execution_count": 88,
     "metadata": {},
     "output_type": "execute_result"
    }
   ],
   "source": [
    "# Get the best_score, best_param and best_estimator obtained by GridSearchCV\n",
    "best_score_bm, best_param_bm, best_estimator_bm = best_score_param_estimator_gs[0]\n",
    "\n",
    "# Get the dataframe of feature and importance\n",
    "df_fi_bm = pd.DataFrame(np.hstack((features.reshape(-1, 1), best_estimator_bm.named_steps['model'].feature_importances_.reshape(-1, 1))),\n",
    "                         columns=['Features', 'Importance'])\n",
    "\n",
    "# Sort df_fi_bm in descending order of the importance\n",
    "df_fi_bm = df_fi_bm.sort_values(ascending=False, by='Importance').reset_index(drop=True)\n",
    "\n",
    "# Print the first 5 rows of df_fi_\n",
    "df_fi_bm.head()"
   ]
  },
  {
   "cell_type": "code",
   "execution_count": 89,
   "metadata": {
    "scrolled": true
   },
   "outputs": [
    {
     "data": {
      "image/png": "[encoded data removed]",
      "text/plain": [
       "<Figure size 720x360 with 1 Axes>"
      ]
     },
     "metadata": {},
     "output_type": "display_data"
    }
   ],
   "source": [
    "# Create a figure\n",
    "fig = plt.figure(figsize=(10, 5))\n",
    "\n",
    "# The bar plot of the top 15 feature importance\n",
    "plt.bar(df_fi_bm['Features'][:15], df_fi_bm['Importance'][:15], color='green')\n",
    "\n",
    "# Set x-axis\n",
    "plt.xlabel('Features')\n",
    "plt.xticks(rotation=90)\n",
    "\n",
    "# Set y-axis\n",
    "plt.ylabel('Importance')\n",
    "\n",
    "# Save and show the figure\n",
    "plt.tight_layout()\n",
    "plt.savefig('figure/feature_importance_bm.pdf')\n",
    "plt.show()"
   ]
  },
  {
   "cell_type": "markdown",
   "metadata": {},
   "source": [
    "## Generating Prediction on Test data"
   ]
  },
  {
   "cell_type": "code",
   "execution_count": 90,
   "metadata": {},
   "outputs": [],
   "source": [
    "# Get the prediction on the testing data using best_model\n",
    "y_test_pred = best_estimator_bm.predict(X_test)\n",
    "\n",
    "# Transform y_test_pred back to the original class\n",
    "y_test_pred = le.inverse_transform(y_test_pred)\n",
    "\n",
    "# Get the submission dataframe\n",
    "df_submit = pd.DataFrame(np.hstack((df_test[['ID_code']], y_test_pred.reshape(-1, 1))),\n",
    "                         columns=['ID_code', target])\n",
    "\n",
    "# Generate the submission file\n",
    "df_submit.to_csv('submission.csv', index=False)"
   ]
  },
  {
   "cell_type": "markdown",
   "metadata": {},
   "source": [
    "## Summary"
   ]
  },
  {
   "cell_type": "code",
   "execution_count": 91,
   "metadata": {},
   "outputs": [],
   "source": [
    "# EDA\n",
    "\n",
    "# Model\n",
    "\n",
    "# Evaluation\n",
    "\n",
    "# Best Metrics\n",
    "\n",
    "# Feature Importance"
   ]
  }
 ],
 "metadata": {
  "kernelspec": {
   "display_name": "Python 3",
   "language": "python",
   "name": "python3"
  },
  "language_info": {
   "codemirror_mode": {
    "name": "ipython",
    "version": 3
   },
   "file_extension": ".py",
   "mimetype": "text/x-python",
   "name": "python",
   "nbconvert_exporter": "python",
   "pygments_lexer": "ipython3",
   "version": "3.7.6"
  }
 },
 "nbformat": 4,
 "nbformat_minor": 2
}
